{
 "cells": [
  {
   "cell_type": "code",
   "execution_count": null,
   "id": "b7b77a01",
   "metadata": {},
   "outputs": [],
   "source": [
    "import numpy as np\n",
    "import matplotlib.pyplot as plt\n",
    "import pandas as pd\n",
    "import bruges as bg\n",
    "import pyvista as pv"
   ]
  },
  {
   "cell_type": "code",
   "execution_count": null,
   "id": "27e8fbcf",
   "metadata": {},
   "outputs": [],
   "source": [
    "filename_valdemar =   \"C:/Users/vwt756/OneDrive - GEUS/MLO documents/pythoncode_local/LOCRETA/data/seismic/Valdemar_full_stack_scaled_1.sgy\"\n",
    "filename_faultpred = 'C:/Users/vwt756/OneDrive - GEUS/MLO documents/pythoncode_local/LOCRETA/data/seismic/Valdemar_full_faultpred.sgy'\n",
    "\n",
    "filename_orig = '//netapp/Petrel/PetrelProjects/UTM33/Employee/PSpro/DATA/Mads/DATA/seismic/from_kenb/Valdemar_full_stack.sgy'\n",
    "path_attributes =  \"M:/LOCRETA_WORKPACKAGE_D/Valdemar_sprint_well_data_Mads_L/MLO documents/pythoncode_local/LOCRETA/data/attributes/\"\n",
    "\n",
    "from segysak.segy import segy_loader\n",
    "valdemar = segy_loader(filename_valdemar ,cdp=None,  iline=189, xline=193,cdpx=181, cdpy = 185, offset=None, vert_domain='TWT', data_type='AMP')\n",
    "valdemar_fault = segy_loader(filename_faultpred ,cdp=None,  iline=189, xline=193,cdpx=181, cdpy = 185, offset=None, vert_domain='TWT', data_type='AMP')\n",
    "#valdemar_orig =  segy_loader(filename_orig ,cdp=None,  iline=189, xline=193,cdpx=181, cdpy = 185, offset=None, vert_domain='TWT', data_type='AMP')\n",
    "#chaos = segy_loader(path_attributes + 'Variance_Cube.sgy' ,cdp=None,  iline=189, xline=193,cdpx=181, cdpy = 185, offset=None, vert_domain='TWT', data_type='AMP')\n",
    "#edge =  segy_loader(path_attributes + '3D Edge.sgy' ,cdp=None,  iline=189, xline=193,cdpx=181, cdpy = 185, offset=None, vert_domain='TWT', data_type='AMP')\n",
    "#ant =   segy_loader(path_attributes + 'Variance_cube_ant-tracked_passive.sgy' ,cdp=None,  iline=189, xline=193,cdpx=181, cdpy = 185, offset=None, vert_domain='TWT', data_type='AMP')\n"
   ]
  },
  {
   "cell_type": "code",
   "execution_count": null,
   "id": "5a8e3851",
   "metadata": {},
   "outputs": [],
   "source": [
    "valdemar[\"CNN\"] = ((\"iline\", \"xline\", \"twt\"), valdemar_fault.data.data)"
   ]
  },
  {
   "cell_type": "code",
   "execution_count": null,
   "id": "fc722308-e44a-45b4-8f96-545837589ace",
   "metadata": {},
   "outputs": [],
   "source": [
    "from scipy.interpolate import griddata\n",
    "mask_below = valdemar.where(valdemar.twt < tuxen_horizon_mapped.twt + 5)\n",
    "mask_above = valdemar.where(valdemar.twt > tuxen_horizon_mapped.twt - 5)\n",
    "masks = [mask_above, mask_below]\n",
    "\n",
    "masked_data = 0.5 * (mask_below + mask_above)\n",
    "\n",
    "summed_amp = masked_data.sum(dim=\"twt\")\n",
    "\n",
    "\n",
    "xi = np.linspace(tuxen_horizon.cdp_x.min(), tuxen_horizon.cdp_x.max(), 2500)\n",
    "yi = np.linspace(tuxen_horizon.cdp_y.min(), tuxen_horizon.cdp_y.max(), 2500)\n",
    "X, Y = np.meshgrid(xi, yi)\n",
    "Z = griddata((tuxen_horizon.cdp_x, tuxen_horizon.cdp_y), tuxen_horizon.twt, (X, Y))"
   ]
  },
  {
   "cell_type": "code",
   "execution_count": null,
   "id": "7023ebb5-a42b-496b-a708-5fa5e3039322",
   "metadata": {},
   "outputs": [],
   "source": []
  },
  {
   "cell_type": "code",
   "execution_count": null,
   "id": "5ea804ed-361a-47df-83de-d60ae2eb48ef",
   "metadata": {},
   "outputs": [],
   "source": []
  },
  {
   "cell_type": "code",
   "execution_count": null,
   "id": "14cc5648-30a3-4437-8c43-d4f4a8134436",
   "metadata": {},
   "outputs": [],
   "source": []
  },
  {
   "cell_type": "code",
   "execution_count": null,
   "id": "fb4aabdd-08ae-4ca7-b8ff-9b78783aa809",
   "metadata": {},
   "outputs": [],
   "source": []
  },
  {
   "cell_type": "code",
   "execution_count": null,
   "id": "39b7f6a8",
   "metadata": {},
   "outputs": [],
   "source": [
    "path_faults =  \"C:/Users/vwt756/OneDrive - GEUS/MLO documents/pythoncode_local/LOCRETA/data/faults/\"\n",
    "\n",
    "faultsticks = pd.DataFrame(columns = [ 'utm_x','utm_y', 'twt', 'fault_id'] )\n",
    "\n",
    "from os import listdir\n",
    "from os.path import isfile, join\n",
    "onlyfiles = [f for f in listdir(path_faults) if isfile(join(path_faults, f))]\n",
    "\n",
    "\n",
    "#pd.read_csv(path_horizons+hrz_file,names=[\"cdp_x\",\"cdp_y\",\"twt\"], sep='\\s+')\n",
    "temp=[]\n",
    "\n",
    "for i in onlyfiles:\n",
    "    temp_file = pd.read_csv(path_faults + i, sep='\\s+',usecols=[3,4,5], names=[ 'utm_x','utm_y', 'twt'])\n",
    "    temp_file['fault_id'] = i\n",
    "    #print(i)\n",
    "    faultsticks = faultsticks.append(temp_file)\n",
    "    \n",
    "faultsticks['fault_id'] = faultsticks['fault_id'].astype('float64')\n",
    "\n",
    "# UTM coords of 3 unique inline, crossline locations.\n",
    "corners_xy = np.array([[595324.50, 6.178583*10**6],\n",
    "                       [599699.50, 6.178583*10**6],\n",
    "                       [595324.50, 6.186083*10**6],\n",
    "                       [599699.50, 6.186083*10**6]])\n",
    "\n",
    "# The inline, crossline locations you just provided.\n",
    "corners_ix = np.array([[7900, 7800],\n",
    "                       [7900, 8150],\n",
    "                       [8500, 7800],\n",
    "                       [8500, 8150]])\n",
    "\n",
    "transform = bg.transform.CoordTransform(corners_ix, corners_xy)\n",
    "\n",
    "#C 7 1: INLINE 7900, CROSSLINE 7800, UTM-X 595324.50 M, UTM-Y 6.178583E+6 M\n",
    "#C 8 2: INLINE 7900, CROSSLINE 8150, UTM-X 599699.50 M, UTM-Y 6.178583E+6 M\n",
    "#C 9 3: INLINE 8500, CROSSLINE 7800, UTM-X 595324.50 M, UTM-Y 6.186083E+6 M\n",
    "#C10 4: INLINE 8500, CROSSLINE 8150, UTM-X 599699.50 M, UTM-Y 6.186083E+6 M\n",
    "\n",
    "faultsticks['iline'] = 0\n",
    "faultsticks['xline'] = 0\n",
    "\n",
    "xl = np.zeros([faultsticks.shape[0]])\n",
    "il = np.zeros([faultsticks.shape[0]])\n",
    "\n",
    "for i in range(faultsticks.shape[0]):\n",
    "    a,b = transform.reverse([faultsticks['utm_x'].values[i], faultsticks['utm_y'].values[i]])\n",
    "    il[i] = a\n",
    "    xl[i] = b\n",
    "    \n",
    "faultsticks['iline'] = il\n",
    "faultsticks['xline'] = xl"
   ]
  },
  {
   "cell_type": "code",
   "execution_count": null,
   "id": "b48a2ee4",
   "metadata": {},
   "outputs": [],
   "source": [
    "d_orig = {}\n",
    "for x in faultsticks['fault_id'].unique():\n",
    "    d_orig[\"fault_{0}\".format(int(x))] = pv.PolyData(faultsticks.loc[faultsticks['fault_id'] == x][['iline','xline','twt']].values).delaunay_3d()"
   ]
  },
  {
   "cell_type": "code",
   "execution_count": null,
   "id": "04ef6612",
   "metadata": {},
   "outputs": [],
   "source": [
    "faultsticks = faultsticks.loc[faultsticks['twt']<2650]\n",
    "faultsticks = faultsticks.loc[(faultsticks['iline']<valdemar.iline.data.max()) & (faultsticks['iline']>valdemar.iline.data.min())]\n",
    "faultsticks = faultsticks.loc[(faultsticks['xline']<valdemar.xline.data.max()) & (faultsticks['xline']>valdemar.xline.data.min())]"
   ]
  },
  {
   "cell_type": "code",
   "execution_count": null,
   "id": "6f66833b",
   "metadata": {},
   "outputs": [],
   "source": [
    "IL = 8100"
   ]
  },
  {
   "cell_type": "code",
   "execution_count": null,
   "id": "a4b11284",
   "metadata": {},
   "outputs": [],
   "source": [
    "d = {}\n",
    "for x in faultsticks['fault_id'].unique():\n",
    "    d[\"fault_{0}\".format(int(x))] = pv.PolyData(faultsticks.loc[faultsticks['fault_id'] == x][['iline','xline','twt']].values).delaunay_3d()"
   ]
  },
  {
   "cell_type": "markdown",
   "id": "c60526d3",
   "metadata": {},
   "source": [
    "## horizons"
   ]
  },
  {
   "cell_type": "code",
   "execution_count": null,
   "id": "281fe7ef",
   "metadata": {},
   "outputs": [],
   "source": [
    "path_horizons =  \"C:/Users/vwt756/OneDrive - GEUS/MLO documents/pythoncode_local/LOCRETA/data/horizons/\"\n",
    "\n",
    "from os import listdir\n",
    "from os.path import isfile, join\n",
    "onlyfiles = [f for f in listdir(path_horizons) if isfile(join(path_horizons, f))]\n",
    "\n",
    "hrz_list = {}\n",
    "hrz_3d = {}\n",
    "\n",
    "k=0\n",
    "for i in onlyfiles:\n",
    "    hrz_file = i\n",
    "    extension = '.txt'\n",
    "    if extension in hrz_file:\n",
    "        hrz = hrz_file.replace(extension,'')\n",
    "    hrz_list[hrz] = pd.read_csv(path_horizons+hrz_file,names=[\"cdp_x\",\"cdp_y\",\"twt\"], sep='\\s+',skiprows = 10)\n",
    "    \n",
    "\n",
    "    xl = np.zeros([hrz_list[hrz].shape[0]])\n",
    "    il = np.zeros([hrz_list[hrz].shape[0]])\n",
    "\n",
    "    for i in range(hrz_list[hrz].shape[0]):\n",
    "        a,b = transform.reverse([hrz_list[hrz]['cdp_x'].values[i], hrz_list[hrz]['cdp_y'].values[i]])\n",
    "        il[i] = a\n",
    "        xl[i] = b\n",
    "\n",
    "    hrz_list[hrz]['iline'] = il\n",
    "    hrz_list[hrz]['xline'] = xl\n",
    "    \n",
    "    hrz_3d[hrz] = pv.PolyData(hrz_list[hrz][['iline','xline','twt']].values).delaunay_2d()\n",
    "    hrz_3d[hrz] = hrz_3d[hrz].smooth(n_iter=2000)\n",
    "    print(hrz)\n",
    "    k=k+1\n"
   ]
  },
  {
   "cell_type": "code",
   "execution_count": null,
   "id": "691e5e64",
   "metadata": {},
   "outputs": [],
   "source": [
    "t_start = 1900 // 4 - 1500 //4\n",
    "t_stop = 2650 // 4  - 1500 //4"
   ]
  },
  {
   "cell_type": "code",
   "execution_count": null,
   "id": "e965ff23",
   "metadata": {},
   "outputs": [],
   "source": [
    "seis = valdemar.data.data / np.max(np.abs(valdemar.data.data))\n",
    "fault = valdemar.CNN.where(valdemar.CNN>0.9).data\n",
    "\n",
    "seis = seis[:,:,t_start:t_stop]\n",
    "fault = fault[:,:,t_start:t_stop]\n",
    "\n",
    "I,X,T=seis.shape\n",
    "dims=(I,X,T)\n",
    "spacing=(2,1,4)\n",
    "origin=(7900,7800,1900)\n",
    "mesh = pv.UniformGrid(dims,spacing,origin)\n",
    "mesh2 = pv.UniformGrid(dims,spacing,origin)\n",
    "\n",
    "#mesh.scale([1000.0, 1000.0, 1000.0])\n",
    "#mesh2.scale([1000.0, 1000.0, 1000.0])\n",
    "\n",
    "mesh['seis']=seis.ravel('F')\n",
    "mesh2['CNN Fault probability'] = fault.ravel('F')"
   ]
  },
  {
   "cell_type": "code",
   "execution_count": null,
   "id": "b0a5cd88",
   "metadata": {},
   "outputs": [],
   "source": [
    "color_hrz = ['#1f77b4', 'm', 'r', 'cyan', 'g', 'orange']\n",
    "label_hrz = ['BCU' , 'Base Chalk', 'Top Sola', 'Top Chalk', 'Top Tuxen', 'Top Valhall']"
   ]
  },
  {
   "cell_type": "markdown",
   "id": "955de744",
   "metadata": {},
   "source": [
    "# Plotting"
   ]
  },
  {
   "cell_type": "markdown",
   "id": "1367d71e",
   "metadata": {},
   "source": [
    "## Inline section"
   ]
  },
  {
   "cell_type": "code",
   "execution_count": null,
   "id": "ce3b95b7",
   "metadata": {},
   "outputs": [],
   "source": [
    "slc = mesh.slice_orthogonal(x=0,  y=7975, z=2600)\n",
    "slc2 = mesh2.slice_orthogonal(x=0,  y=7975, z=2601)\n",
    "\n",
    "\n",
    "p = pv.Plotter(notebook=False)\n",
    "#p.set_scale(xscale=2, yscale = 2)\n",
    "#p.add_mesh(mesh, opacity=0.2, cmap='Greys')\n",
    "p.add_mesh(slc, cmap='Greys', opacity = 1, lighting=False, clim=[-1,1], show_scalar_bar =False)\n",
    "p.add_mesh(slc2, nan_color = None, nan_opacity= 0 , lighting=False, cmap='Reds' , label='CNN Fault',\n",
    "           scalar_bar_args = dict(    title_font_size=20,\n",
    "    label_font_size=16, n_labels=3,  fmt=\"%.2f\", interactive=True), show_scalar_bar =False)#, clim=[0.9,1], opacity=0.7)\n",
    "\n",
    "#for i in faultsticks.loc[faultsticks['iline'] == IL]['fault_id'].unique():   \n",
    "#    p.add_mesh(d['fault_'+str(int(i))])\n",
    "\n",
    "#for i in faultsticks['fault_id'].unique():   \n",
    "#    p.add_mesh(d['fault_'+str(int(i))].slice_orthogonal(x=0, y=7975, z=2600), color='lawngreen',line_width=2, show_edges=True, edge_color='k', lighting=False)\n",
    "\n",
    "p.show_bounds(slc, xlabel='Inline #', ylabel='Crossline #', zlabel='TWT', \n",
    "              grid='front', location='outer', bounds = [7900, 8500,\n",
    "    7800, 8150, 2650, 1900], color='k', fmt=\"%.1f\")\n",
    "\n",
    "#k = 0\n",
    "#for hrz in hrz_list:\n",
    "#    p.add_mesh(hrz_3d[hrz].slice_orthogonal(x=0, y=7975, z=2600), color = color_hrz[k] ,line_width=4, show_edges=True, edge_color='k', lighting=False, nan_color = None, nan_opacity= 0)\n",
    "#    k += 1\n",
    "p.camera_position = 'xz'\n",
    "#p.camera_position = [(7795.5509416442255, 8662.157536121902, 1600.897820095156),\n",
    "# (8179.006405051869, 7946.098887495095, 2442.14694664309),\n",
    "# (0.16163001548980183, -0.19743229153787573, -0.9669003197594206)]\n",
    "p.set_background('white')\n",
    "p.show()"
   ]
  },
  {
   "cell_type": "code",
   "execution_count": null,
   "id": "f81d8622",
   "metadata": {},
   "outputs": [],
   "source": [
    "p.camera_position\n",
    "#[(7795.5509416442255, 8662.157536121902, 1600.897820095156),\n",
    "# (8179.006405051869, 7946.098887495095, 2442.14694664309),\n",
    "# (0.16163001548980183, -0.19743229153787573, -0.9669003197594206)]"
   ]
  },
  {
   "cell_type": "code",
   "execution_count": null,
   "id": "9fb64e55",
   "metadata": {},
   "outputs": [],
   "source": [
    "slc = mesh.slice_orthogonal(x=0,  y=7975, z=2601)\n",
    "slc2 = mesh2.slice_orthogonal(x=0,  y=7975, z=2600)\n",
    "\n",
    "\n",
    "p = pv.Plotter(notebook=False)\n",
    "p.set_scale(xscale=4, yscale = 4)\n",
    "#p.add_mesh(mesh, opacity=0.2, cmap='Greys')\n",
    "p.add_mesh(slc, cmap='Greys', opacity = 1, lighting=False, clim=[-1,1], show_scalar_bar =False)\n",
    "#p.add_mesh(slc2, nan_color = None, nan_opacity= 0 , lighting=False, cmap='Reds' , label='CNN Fault',\n",
    "#           scalar_bar_args = dict(    title_font_size=20,\n",
    "#    label_font_size=16, n_labels=3,  fmt=\"%.2f\", interactive=True), show_scalar_bar =False)#, clim=[0.9,1], opacity=0.7)\n",
    "\n",
    "#for i in faultsticks.loc[faultsticks['iline'] == IL]['fault_id'].unique():   \n",
    "#    p.add_mesh(d['fault_'+str(int(i))])\n",
    "\n",
    "#for i in faultsticks['fault_id'].unique():   \n",
    "#    p.add_mesh(d['fault_'+str(int(i))].slice_orthogonal(x=0, y=7975, z=2600), color='lawngreen',line_width=2, show_edges=True, edge_color='k', lighting=False)\n",
    "\n",
    "p.show_bounds(slc, xlabel='Inline #', ylabel='Crossline #', zlabel='TWT', \n",
    "              grid='front', location='outer', bounds = [7900, 8500,\n",
    "    7800, 8150, 2650, 1900], color='k', fmt=\"%.1f\")\n",
    "\n",
    "k = 0\n",
    "for hrz in hrz_list:\n",
    "    p.add_mesh(hrz_3d[hrz].slice_orthogonal(x=0, y=7975, z=2600), color = color_hrz[k] ,line_width=2, show_edges=True, edge_color='k', lighting=False, nan_color = None, nan_opacity= 0)\n",
    "    k += 1\n",
    "p.camera_position = 'xz'\n",
    "#p.camera_position = [(7795.5509416442255, 8662.157536121902, 1600.897820095156),\n",
    "# (8179.006405051869, 7946.098887495095, 2442.14694664309),\n",
    "# (0.16163001548980183, -0.19743229153787573, -0.9669003197594206)]\n",
    "p.set_background('white')\n",
    "p.show()"
   ]
  },
  {
   "cell_type": "markdown",
   "id": "776370b9",
   "metadata": {},
   "source": [
    "## Xline section"
   ]
  },
  {
   "cell_type": "code",
   "execution_count": null,
   "id": "d89d0bf2",
   "metadata": {},
   "outputs": [],
   "source": [
    "IL = 8440\n",
    "\n",
    "slc = mesh.slice_orthogonal(x=IL,  y=0, z=2601)\n",
    "slc2 = mesh2.slice_orthogonal(x=IL,  y=0, z=2600)\n",
    "\n",
    "p = pv.Plotter(notebook=False, polygon_smoothing=True)\n",
    "p.set_scale(xscale=4, yscale = 4)\n",
    "#p.add_mesh(mesh, opacity=0.2, cmap='Greys')\n",
    "p.add_mesh(slc, cmap='Greys', opacity = 1, lighting=False, clim=[-1,1], show_scalar_bar =False)\n",
    "p.add_mesh(slc2, nan_color = None, nan_opacity= 0 , lighting=False, cmap='Reds' , label='CNN Fault',\n",
    "           scalar_bar_args = dict(    title_font_size=20,\n",
    "    label_font_size=16, n_labels=3,  fmt=\"%.2f\", interactive=True), show_scalar_bar =False)#, clim=[0.9,1], opacity=0.7)\n",
    "\n",
    "#for i in faultsticks.loc[faultsticks['iline'] == IL]['fault_id'].unique():   \n",
    "#    p.add_mesh(d['fault_'+str(int(i))])\n",
    "\n",
    "for i in faultsticks['fault_id'].unique():   \n",
    "    p.add_mesh(d['fault_'+str(int(i))].slice_orthogonal(x=IL, y=0, z=2600), color='lawngreen',line_width=2, show_edges=True, edge_color='k', lighting=False)\n",
    "\n",
    "p.show_bounds(slc, xlabel='Inline #', ylabel='Crossline #', zlabel='TWT', \n",
    "              grid='front', location='outer', bounds = [7900, 8500,\n",
    "    7800, 8150, 2650, 1900], color='k', fmt=\"%.1f\")\n",
    "\n",
    "\n",
    " #mesh.slice(normal=[1, 1, 0])\n",
    "    \n",
    "    \n",
    "k = 0\n",
    "for hrz in hrz_list:\n",
    "    p.add_mesh(hrz_3d[hrz].slice_orthogonal(x=IL, y=0, z=2600) ,color = color_hrz[k] ,line_width=2, show_edges=True, edge_color='k', lighting=False, nan_color = None, nan_opacity= 0)\n",
    "    k += 1\n",
    "#for hrz in hrz_list:\n",
    "#    p.add_mesh(hrz_3d[hrz].slice_orthogonal(x=8440, y=0, z=2600) ,color = color_hrz[k] ,line_width=2, show_edges=True, edge_color='k', lighting=False, nan_color = None, nan_opacity= 0)\n",
    "#    k += 1\n",
    "    \n",
    "#p.camera_position = [(7486.767661866813, 8287.661754710181, 1803.2750145811142),\n",
    "# (8170.985651254801, 7942.297348728063, 2469.038549863768),\n",
    "# (0.19330745322599918, -0.08796346563670202, -0.9771871147535969)]\n",
    "#p.enable_parallel_projection()\n",
    "\n",
    "#p.add_actor(actor)\n",
    "#p.set_background(\"royalblue\", top=\"aliceblue\")\n",
    "p.set_background('white')\n",
    "p.show()"
   ]
  },
  {
   "cell_type": "code",
   "execution_count": null,
   "id": "9fdbb158",
   "metadata": {},
   "outputs": [],
   "source": [
    "p.camera_position\n",
    "#[(7486.767661866813, 8287.661754710181, 1803.2750145811142),\n",
    "# (8170.985651254801, 7942.297348728063, 2469.038549863768),\n",
    "# (0.19330745322599918, -0.08796346563670202, -0.9771871147535969)]"
   ]
  },
  {
   "cell_type": "code",
   "execution_count": null,
   "id": "61f43a71",
   "metadata": {},
   "outputs": [],
   "source": [
    "\n",
    "\n",
    "slc = mesh.slice_orthogonal(x=IL,  y=0, z=2601)\n",
    "slc2 = mesh2.slice_orthogonal(x=IL,  y=0, z=2600)\n",
    "\n",
    "p = pv.Plotter(notebook=False, polygon_smoothing=True)\n",
    "p.set_scale(xscale=4, yscale = 4)\n",
    "#p.add_mesh(mesh, opacity=0.2, cmap='Greys')\n",
    "p.add_mesh(slc, cmap='Greys', opacity = 1, lighting=False, clim=[-1,1], show_scalar_bar =False)\n",
    "#p.add_mesh(slc2, nan_color = None, nan_opacity= 0 , lighting=False, cmap='Reds' , label='CNN Fault',\n",
    "#           scalar_bar_args = dict(    title_font_size=20,\n",
    "#    label_font_size=16, n_labels=3,  fmt=\"%.2f\", interactive=True), show_scalar_bar =False)#, clim=[0.9,1], opacity=0.7)\n",
    "\n",
    "#for i in faultsticks.loc[faultsticks['iline'] == IL]['fault_id'].unique():   \n",
    "#    p.add_mesh(d['fault_'+str(int(i))])\n",
    "\n",
    "#for i in faultsticks['fault_id'].unique():   \n",
    "#    p.add_mesh(d['fault_'+str(int(i))].slice_orthogonal(x=IL, y=0, z=2600), color='lawngreen',line_width=2, show_edges=True, edge_color='k', lighting=False)\n",
    "\n",
    "p.show_bounds(slc, xlabel='Inline #', ylabel='Crossline #', zlabel='TWT', \n",
    "              grid='front', location='outer', bounds = [7900, 8500,\n",
    "    7800, 8150, 2650, 1900], color='k', fmt=\"%.1f\")\n",
    "\n",
    "\n",
    " #mesh.slice(normal=[1, 1, 0])\n",
    "    \n",
    "    \n",
    "k = 0\n",
    "for hrz in hrz_list:\n",
    "    p.add_mesh(hrz_3d[hrz].slice_orthogonal(x=IL, y=0, z=2600) ,color = color_hrz[k] ,line_width=2, show_edges=True, edge_color='k', lighting=False, nan_color = None, nan_opacity= 0)\n",
    "    k += 1\n",
    "#for hrz in hrz_list:\n",
    "#    p.add_mesh(hrz_3d[hrz].slice_orthogonal(x=8440, y=0, z=2600) ,color = color_hrz[k] ,line_width=2, show_edges=True, edge_color='k', lighting=False, nan_color = None, nan_opacity= 0)\n",
    "#    k += 1\n",
    "    \n",
    "p.camera_position = [(7486.767661866813, 8287.661754710181, 1803.2750145811142),\n",
    " (8170.985651254801, 7942.297348728063, 2469.038549863768),\n",
    " (0.19330745322599918, -0.08796346563670202, -0.9771871147535969)]\n",
    "#p.enable_parallel_projection()\n",
    "\n",
    "#p.add_actor(actor)\n",
    "#p.set_background(\"royalblue\", top=\"aliceblue\")\n",
    "p.set_background('white')\n",
    "p.show()"
   ]
  },
  {
   "cell_type": "code",
   "execution_count": null,
   "id": "85cde9d7",
   "metadata": {},
   "outputs": [],
   "source": [
    "p.camera_position\n",
    "#[(7486.767661866813, 8287.661754710181, 1803.2750145811142),\n",
    "# (8170.985651254801, 7942.297348728063, 2469.038549863768),\n",
    "# (0.19330745322599918, -0.08796346563670202, -0.9771871147535969)]"
   ]
  },
  {
   "cell_type": "markdown",
   "id": "96d2a5db",
   "metadata": {},
   "source": [
    "## Interactive Sessions"
   ]
  },
  {
   "cell_type": "code",
   "execution_count": null,
   "id": "f287fe05",
   "metadata": {},
   "outputs": [],
   "source": [
    "p = pv.Plotter(notebook=False)\n",
    "#p.set_scale(yscale=3)\n",
    "#p.add_mesh(mesh, opacity=0.2, cmap='Greys')\n",
    "p.add_mesh_slice(mesh, cmap='Greys', opacity = 1, lighting=False, clim=[-1,1], show_scalar_bar =False)\n",
    "#p.add_mesh_slice(mesh2, nan_color = None, nan_opacity= 0 , lighting=False, cmap='Reds' , label='CNN Fault',\n",
    "#           scalar_bar_args = dict(    title_font_size=20,\n",
    "#    label_font_size=16, n_labels=3,  fmt=\"%.2f\", interactive=True), show_scalar_bar =False)#, clim=[0.9,1], opacity=0.7)\n",
    "\n",
    "#for i in faultsticks.loc[faultsticks['iline'] == IL]['fault_id'].unique():   \n",
    "#    p.add_mesh(d['fault_'+str(int(i))])\n",
    "\n",
    "#for i in faultsticks['fault_id'].unique():   \n",
    "#    p.add_mesh(d['fault_'+str(int(i))].slice_orthogonal(x=8440, y=0, z=2600), color='lawngreen',line_width=2, show_edges=True, edge_color='k', lighting=False)\n",
    "#\n",
    "#p.show_bounds(slc, xlabel='Inline #', ylabel='Crossline #', zlabel='TWT', \n",
    "#              grid='front', location='outer', bounds = [7900, 8500,\n",
    "#    7800, 8150, 2650, 1900], color='k', fmt=\"%.1f\")\n",
    "\n",
    "\n",
    "\n",
    "#k = 0\n",
    "#for hrz in hrz_list:\n",
    "#    p.add_mesh(hrz_3d[hrz], color = color_hrz[k] ,line_width=2, show_edges=True, edge_color='k', lighting=False, nan_color = None, nan_opacity= 0)\n",
    "#    k += 1\n",
    "#p.camera_position = 'xz'\n",
    "#p.enable_parallel_projection()\n",
    "\n",
    "#p.add_actor(actor)\n",
    "#p.set_background(\"royalblue\", top=\"aliceblue\")\n",
    "p.set_background('grey')\n",
    "p.show()"
   ]
  },
  {
   "cell_type": "code",
   "execution_count": null,
   "id": "e094057b",
   "metadata": {},
   "outputs": [],
   "source": []
  },
  {
   "cell_type": "code",
   "execution_count": null,
   "id": "7fe761aa",
   "metadata": {},
   "outputs": [],
   "source": [
    "p = pv.Plotter(notebook=False, polygon_smoothing=True)\n",
    "p.add_mesh_slice_orthogonal(mesh,cmap='Greys', opacity = 1, lighting=False, clim=[-1,1], show_scalar_bar =False)\n",
    "\n",
    "for i in faultsticks['fault_id'].unique():  \n",
    "    p.add_mesh(d_orig['fault_'+str(int(i))], color='lawngreen', opacity = 0.5)\n",
    "p.set_scale(yscale=3)\n",
    "p.show_bounds(slc, xlabel='Inline #', ylabel='Crossline #', zlabel='TWT', \n",
    "              grid='front', location='outer', bounds = [7900, 8500,\n",
    "    7800, 8150, 2650, 1900], color='white', fmt=\"%.1f\")\n",
    "p.show()"
   ]
  },
  {
   "cell_type": "code",
   "execution_count": null,
   "id": "eefe3b46",
   "metadata": {},
   "outputs": [],
   "source": [
    "d_orig['fault_1']"
   ]
  },
  {
   "cell_type": "code",
   "execution_count": null,
   "id": "90dd40c9",
   "metadata": {},
   "outputs": [],
   "source": [
    "# Interpolation test\n",
    "p = pv.Plotter(notebook=False, polygon_smoothing=True)\n",
    "p.add_mesh_slice_orthogonal(mesh,cmap='Greys', opacity = 1, lighting=False, clim=[-1,1], show_scalar_bar =False)\n",
    "plane = d_orig['fault_1'].interpolate(mesh)\n",
    "p.add_mesh(plane, style='wireframe', line_width=5)\n",
    "p.set_scale(yscale=3)\n",
    "p.show_bounds(slc, xlabel='Inline #', ylabel='Crossline #', zlabel='TWT', \n",
    "              grid='front', location='outer', bounds = [7900, 8500,\n",
    "    7800, 8150, 2650, 1900], color='white', fmt=\"%.1f\")\n",
    "p.show()"
   ]
  },
  {
   "cell_type": "code",
   "execution_count": null,
   "id": "3d5e3248",
   "metadata": {},
   "outputs": [],
   "source": [
    "plane"
   ]
  },
  {
   "cell_type": "code",
   "execution_count": null,
   "id": "05929295",
   "metadata": {},
   "outputs": [],
   "source": [
    "p = pv.Plotter(notebook=False)\n",
    "\n",
    "def create_mesh(iline):\n",
    "    iline_ = int(iline)\n",
    "    slc = mesh.slice_orthogonal(x=iline_,  y=0, z=2601)\n",
    "    p.add_mesh(slc, cmap='Greys', opacity = 1, lighting=False, clim=[-1,1], show_scalar_bar =False)\n",
    "    return\n",
    "\n",
    "p.add_slider_widget(create_mesh, [7900, 8500], title='Inline')\n",
    "p.set_scale(yscale=3)\n",
    "p.show()\n"
   ]
  },
  {
   "cell_type": "code",
   "execution_count": null,
   "id": "92cde04f",
   "metadata": {},
   "outputs": [],
   "source": [
    "p = pv.Plotter(notebook=False)\n",
    "p.set_scale(xscale=4, yscale = 4)\n",
    "p.add_mesh(hrz_3d['BaseChalk_horizon'])\n",
    "p.show_bounds(slc, xlabel='Inline #', ylabel='Crossline #', zlabel='TWT', \n",
    "              grid='front', location='outer', bounds = [7900, 8500,\n",
    "    7800, 8150, 2650, 1900], color='white', fmt=\"%.1f\")\n",
    "p.camera_position = [(7486.767661866813, 8287.661754710181, 1803.2750145811142),\n",
    " (8170.985651254801, 7942.297348728063, 2469.038549863768),\n",
    " (0.19330745322599918, -0.08796346563670202, -0.9771871147535969)]\n",
    "p.show()"
   ]
  },
  {
   "cell_type": "code",
   "execution_count": null,
   "id": "9a19e5c6",
   "metadata": {},
   "outputs": [],
   "source": []
  },
  {
   "cell_type": "code",
   "execution_count": null,
   "id": "59ac7665",
   "metadata": {},
   "outputs": [],
   "source": []
  },
  {
   "cell_type": "code",
   "execution_count": null,
   "id": "4768ad47",
   "metadata": {},
   "outputs": [],
   "source": []
  },
  {
   "cell_type": "markdown",
   "id": "8394b26e",
   "metadata": {},
   "source": [
    "# 2D sections"
   ]
  },
  {
   "cell_type": "markdown",
   "id": "5c00e870",
   "metadata": {},
   "source": [
    "IL"
   ]
  },
  {
   "cell_type": "code",
   "execution_count": null,
   "id": "ac5b5218",
   "metadata": {},
   "outputs": [],
   "source": [
    "IL = 8040\n",
    "\n",
    "slc = mesh.slice(origin=(IL,  0, 2601))\n",
    "slc2 = mesh2.slice(origin=(IL,  0, 2600))\n",
    "\n",
    "p = pv.Plotter(notebook=False, polygon_smoothing=True)\n",
    "p.set_scale(xscale=4, yscale = 4)\n",
    "#p.add_mesh(mesh, opacity=0.2, cmap='Greys')\n",
    "p.add_mesh(slc, cmap='Greys', opacity = 1, lighting=False, clim=[-1,1], show_scalar_bar =False)\n",
    "p.add_mesh(slc2, nan_color = None, nan_opacity= 0 , lighting=False, cmap='Reds' , label='CNN Fault',\n",
    "           scalar_bar_args = dict(    title_font_size=20,\n",
    "    label_font_size=16, n_labels=3,  fmt=\"%.2f\", interactive=True), show_scalar_bar =False)#, clim=[0.9,1], opacity=0.7)\n",
    "\n",
    "#for i in faultsticks.loc[faultsticks['iline'] == IL]['fault_id'].unique():   \n",
    "#    p.add_mesh(d['fault_'+str(int(i))])\n",
    "\n",
    "for i in faultsticks['fault_id'].unique():   \n",
    "    p.add_mesh(d['fault_'+str(int(i))].slice_orthogonal(x=IL, y=0, z=0), color='lawngreen',line_width=2, show_edges=True, edge_color='k', lighting=False)\n",
    "\n",
    "p.show_bounds(slc, xlabel='Inline #', ylabel='Crossline #', zlabel='TWT', \n",
    "              location='outer', bounds = [7900, 8500,\n",
    "    7800, 8150, 2650, 1900], color='k', fmt=\"%.1f\")\n",
    "#\n",
    "#\n",
    "# #mesh.slice(normal=[1, 1, 0])\n",
    "#    \n",
    "#    \n",
    "k = 0\n",
    "for hrz in hrz_list:\n",
    "    p.add_mesh(hrz_3d[hrz].slice(origin=(IL,  0, 2600)) ,color = color_hrz[k] ,line_width=2, show_edges=True, edge_color='k', lighting=False, nan_color = None, nan_opacity= 0)\n",
    "    k += 1\n",
    "##for hrz in hrz_list:\n",
    "##    p.add_mesh(hrz_3d[hrz].slice_orthogonal(x=8440, y=0, z=2600) ,color = color_hrz[k] ,line_width=2, show_edges=True, edge_color='k', lighting=False, nan_color = None, nan_opacity= 0)\n",
    "##    k += 1\n",
    "#    \n",
    "#p.camera_position = [(7486.767661866813, 8287.661754710181, 1803.2750145811142),\n",
    "# (8170.985651254801, 7942.297348728063, 2469.038549863768),\n",
    "# (0.19330745322599918, -0.08796346563670202, -0.9771871147535969)]\n",
    "#p.enable_parallel_projection()\n",
    "#p.camera_position = [(8065.1693872481, 7975.0, 2272.0),\n",
    "# (8440.0, 7975.0, 2272.0),\n",
    "# (0.0, 0.0, -1.0)]\n",
    "#p.add_actor(actor)\n",
    "#p.set_background(\"royalblue\", top=\"aliceblue\")\n",
    "p.set_background('white')\n",
    "p.show()"
   ]
  },
  {
   "cell_type": "code",
   "execution_count": null,
   "id": "75d2303e",
   "metadata": {},
   "outputs": [],
   "source": [
    "\n",
    "slc = mesh.slice(origin=(IL,  0, 2601))\n",
    "slc2 = mesh2.slice(origin=(IL,  0, 2600))\n",
    "\n",
    "p = pv.Plotter(notebook=False, polygon_smoothing=True)\n",
    "p.set_scale(xscale=4, yscale = 4)\n",
    "#p.add_mesh(mesh, opacity=0.2, cmap='Greys')\n",
    "p.add_mesh(slc, cmap='Greys', opacity = 1, lighting=False, clim=[-1,1], show_scalar_bar =False)\n",
    "#p.add_mesh(slc2, nan_color = None, nan_opacity= 0 , lighting=False, cmap='Reds' , label='CNN Fault',\n",
    "#           scalar_bar_args = dict(    title_font_size=20,\n",
    "#    label_font_size=16, n_labels=3,  fmt=\"%.2f\", interactive=True), show_scalar_bar =False)#, clim=[0.9,1], opacity=0.7)\n",
    "\n",
    "#for i in faultsticks.loc[faultsticks['iline'] == IL]['fault_id'].unique():   \n",
    "#    p.add_mesh(d['fault_'+str(int(i))])\n",
    "\n",
    "#for i in faultsticks['fault_id'].unique():   \n",
    "#    p.add_mesh(d['fault_'+str(int(i))].slice_orthogonal(x=IL, y=0, z=0), color='lawngreen',line_width=2, show_edges=True, edge_color='k', lighting=False)\n",
    "#\n",
    "p.show_bounds(slc, xlabel='Inline #', ylabel='Crossline #', zlabel='TWT', \n",
    "              location='outer', bounds = [7900, 8500,\n",
    "    7800, 8150, 2650, 1900], color='k', fmt=\"%.1f\")\n",
    "#\n",
    "#\n",
    "# #mesh.slice(normal=[1, 1, 0])\n",
    "#    \n",
    "#    \n",
    "k = 0\n",
    "for hrz in hrz_list:\n",
    "    p.add_mesh(hrz_3d[hrz].slice(origin=(IL,  0, 2600)) ,color = color_hrz[k] ,line_width=2, show_edges=True, edge_color='k', lighting=False, nan_color = None, nan_opacity= 0)\n",
    "    k += 1\n",
    "##for hrz in hrz_list:\n",
    "##    p.add_mesh(hrz_3d[hrz].slice_orthogonal(x=8440, y=0, z=2600) ,color = color_hrz[k] ,line_width=2, show_edges=True, edge_color='k', lighting=False, nan_color = None, nan_opacity= 0)\n",
    "##    k += 1\n",
    "#    \n",
    "#p.camera_position = [(7486.767661866813, 8287.661754710181, 1803.2750145811142),\n",
    "# (8170.985651254801, 7942.297348728063, 2469.038549863768),\n",
    "# (0.19330745322599918, -0.08796346563670202, -0.9771871147535969)]\n",
    "#p.enable_parallel_projection()\n",
    "p.camera_position = [(8065.1693872481, 7975.0, 2272.0),\n",
    " (8440.0, 7975.0, 2272.0),\n",
    " (0.0, 0.0, -1.0)]\n",
    "#p.add_actor(actor)\n",
    "#p.set_background(\"royalblue\", top=\"aliceblue\")\n",
    "p.set_background('white')\n",
    "p.show()"
   ]
  },
  {
   "cell_type": "markdown",
   "id": "17472fdc",
   "metadata": {},
   "source": [
    "XL"
   ]
  },
  {
   "cell_type": "code",
   "execution_count": null,
   "id": "47992864",
   "metadata": {},
   "outputs": [],
   "source": [
    "XL = 7975\n",
    "\n",
    "slc = mesh.slice(normal='y', origin =(0,  XL, 2600))\n",
    "slc2 = mesh2.slice(normal='y', origin =(0,  XL, 2601))\n",
    "\n",
    "\n",
    "p = pv.Plotter(notebook=False)\n",
    "p.set_scale(xscale=4, yscale = 4)\n",
    "#p.add_mesh(mesh, opacity=0.2, cmap='Greys')\n",
    "p.add_mesh(slc, cmap='Greys', opacity = 1, lighting=False, clim=[-1,1], show_scalar_bar =False)\n",
    "p.add_mesh(slc2, nan_color = None, nan_opacity= 0 , lighting=False, cmap='Reds' , label='CNN Fault',\n",
    "           scalar_bar_args = dict(    title_font_size=20,\n",
    "    label_font_size=16, n_labels=3,  fmt=\"%.2f\", interactive=True), show_scalar_bar =False)#, clim=[0.9,1], opacity=0.7)\n",
    "\n",
    "#for i in faultsticks.loc[faultsticks['iline'] == IL]['fault_id'].unique():   \n",
    "#    p.add_mesh(d['fault_'+str(int(i))])\n",
    "\n",
    "for i in faultsticks['fault_id'].unique():   \n",
    "    p.add_mesh(d['fault_'+str(int(i))].slice_orthogonal(0,  XL, 0), color='lawngreen',line_width=2, show_edges=True, edge_color='k', lighting=False)\n",
    "\n",
    "p.show_bounds(slc, xlabel='Inline #', ylabel='Crossline #', zlabel='TWT', \n",
    "              location='outer', bounds = [7900, 8500,\n",
    "    7800, 8150, 2650, 1900], color='k', fmt=\"%.1f\")\n",
    "\n",
    "k = 0\n",
    "for hrz in hrz_list:\n",
    "    p.add_mesh(hrz_3d[hrz].slice(normal='y',origin=(0, XL, 2600)), color = color_hrz[k] ,line_width=2, show_edges=True, edge_color='k', lighting=False, nan_color = None, nan_opacity= 0)\n",
    "    k += 1\n",
    "p.camera_position = 'zx'\n",
    "#p.camera_position = [(7795.5509416442255, 8662.157536121902, 1600.897820095156),\n",
    "# (8179.006405051869, 7946.098887495095, 2442.14694664309),\n",
    "# (0.16163001548980183, -0.19743229153787573, -0.9669003197594206)]\n",
    "p.set_background('white')\n",
    "p.show()"
   ]
  },
  {
   "cell_type": "code",
   "execution_count": null,
   "id": "31e39c17",
   "metadata": {},
   "outputs": [],
   "source": [
    "p.camera_position\n",
    "#[(7486.767661866813, 8287.661754710181, 1803.2750145811142),\n",
    "# (8170.985651254801, 7942.297348728063, 2469.038549863768),\n",
    "# (0.19330745322599918, -0.08796346563670202, -0.9771871147535969)]"
   ]
  },
  {
   "cell_type": "code",
   "execution_count": null,
   "id": "e07967f0",
   "metadata": {},
   "outputs": [],
   "source": [
    "XL = 7975\n",
    "\n",
    "slc = mesh.slice(normal='y', origin =(0,  XL, 2600))\n",
    "slc2 = mesh2.slice(normal='y', origin =(0,  XL, 2601))\n",
    "\n",
    "\n",
    "p = pv.Plotter(notebook=False)\n",
    "p.set_scale(xscale=4, yscale = 4)\n",
    "#p.add_mesh(mesh, opacity=0.2, cmap='Greys')\n",
    "p.add_mesh(slc, cmap='Greys', opacity = 1, lighting=False, clim=[-1,1], show_scalar_bar =False)\n",
    "#p.add_mesh(slc2, nan_color = None, nan_opacity= 0 , lighting=False, cmap='Reds' , label='CNN Fault',\n",
    "#           scalar_bar_args = dict(    title_font_size=20,\n",
    "#    label_font_size=16, n_labels=3,  fmt=\"%.2f\", interactive=True), show_scalar_bar =False)#, clim=[0.9,1], opacity=0.7)\n",
    "\n",
    "#for i in faultsticks.loc[faultsticks['iline'] == IL]['fault_id'].unique():   \n",
    "#    p.add_mesh(d['fault_'+str(int(i))])\n",
    "\n",
    "#for i in faultsticks['fault_id'].unique():   \n",
    "#    p.add_mesh(d['fault_'+str(int(i))].slice_orthogonal(0,  XL, 0), color='lawngreen',line_width=2, show_edges=True, edge_color='k', lighting=False)\n",
    "\n",
    "p.show_bounds(slc, xlabel='Inline #', ylabel='Crossline #', zlabel='TWT', \n",
    "              location='outer', bounds = [7900, 8500,\n",
    "    7800, 8150, 2650, 1900], color='k', fmt=\"%.1f\")\n",
    "\n",
    "k = 0\n",
    "for hrz in hrz_list:\n",
    "    p.add_mesh(hrz_3d[hrz].slice(normal='y',origin=(0, XL, 2600)), color = color_hrz[k] ,line_width=2, show_edges=True, edge_color='k', lighting=False, nan_color = None, nan_opacity= 0)\n",
    "    k += 1\n",
    "p.camera_position = [(8200.0, 8594.207942319958, 2272.9695870149253),\n",
    " (8200.0, 7975.0, 2272.9695870149253),\n",
    " (0.002308863969307561, 0.0, -0.9999973345700334)]\n",
    "#p.camera_position = [(7795.5509416442255, 8662.157536121902, 1600.897820095156),\n",
    "# (8179.006405051869, 7946.098887495095, 2442.14694664309),\n",
    "# (0.16163001548980183, -0.19743229153787573, -0.9669003197594206)]\n",
    "p.set_background('white')\n",
    "p.show()"
   ]
  },
  {
   "cell_type": "code",
   "execution_count": null,
   "id": "7c4adaf4",
   "metadata": {},
   "outputs": [],
   "source": [
    "p = pv.Plotter(notebook=False)\n",
    "\n",
    "def callback(point, i):\n",
    "    mesh.points[i] = point\n",
    "\n",
    "p.add_sphere_widget(callback, center=mesh.points)\n",
    "p.add_mesh_clip_box(mesh, color='red')\n",
    "p.show()"
   ]
  },
  {
   "cell_type": "code",
   "execution_count": null,
   "id": "4122fcb8",
   "metadata": {},
   "outputs": [],
   "source": [
    "\n",
    "pl = pv.Plotter(notebook=False)\n",
    "def create_mesh(value):\n",
    "    res = int(value)\n",
    "    sphere = pv.Sphere(phi_resolution=res, theta_resolution=res)\n",
    "    pl.add_mesh(sphere, name=\"sphere\", show_edges=True)\n",
    "slider = pl.add_slider_widget(\n",
    "    create_mesh,\n",
    "    [5, 100],\n",
    "    title=\"Resolution\",\n",
    "    title_opacity=0.5,\n",
    "    title_color=\"red\",\n",
    "    fmt=\"%0.9f\",\n",
    "    title_height=0.08,\n",
    ")\n",
    "pl.show()"
   ]
  },
  {
   "cell_type": "code",
   "execution_count": null,
   "id": "76bcce3a",
   "metadata": {},
   "outputs": [],
   "source": [
    "class MyCustomRoutine():\n",
    "    def __init__(self, mesh):\n",
    "        self.output = mesh # Expected PyVista mesh type\n",
    "        # default parameters\n",
    "        self.kwargs = {\n",
    "            'radius': 0.5,\n",
    "            'theta_resolution': 30,\n",
    "            'phi_resolution': 30,\n",
    "        }\n",
    "\n",
    "    def __call__(self, param, value):\n",
    "        self.kwargs[param] = value\n",
    "        self.update()\n",
    "\n",
    "    def update(self):\n",
    "        # This is where you call your simulation\n",
    "        result = pv.Sphere(**self.kwargs)\n",
    "        self.output.overwrite(result)\n",
    "        return"
   ]
  },
  {
   "cell_type": "code",
   "execution_count": null,
   "id": "40fd8291",
   "metadata": {},
   "outputs": [],
   "source": [
    "starting_mesh = pv.Sphere()\n",
    "engine = MyCustomRoutine(starting_mesh)"
   ]
  },
  {
   "cell_type": "code",
   "execution_count": null,
   "id": "f9f13308",
   "metadata": {},
   "outputs": [],
   "source": [
    "p = pv.Plotter(notebook=False)\n",
    "p.add_mesh(starting_mesh, show_edges=True)\n",
    "p.add_slider_widget(\n",
    "    callback=lambda value: engine('phi_resolution', int(value)),\n",
    "    rng=[3, 60],\n",
    "    value=30,\n",
    "    title=\"Phi Resolution\",\n",
    "    pointa=(.025, .1), pointb=(.31, .1),\n",
    "    style='modern',\n",
    ")\n",
    "p.add_slider_widget(\n",
    "    callback=lambda value: engine('theta_resolution', int(value)),\n",
    "    rng=[3, 60],\n",
    "    value=30,\n",
    "    title=\"Theta Resolution\",\n",
    "    pointa=(.35, .1), pointb=(.64, .1),\n",
    "    style='modern',\n",
    ")\n",
    "p.add_slider_widget(\n",
    "    callback=lambda value: engine('radius', value),\n",
    "    rng=[0.1, 1.5],\n",
    "    value=0.5,\n",
    "    title=\"Radius\",\n",
    "    pointa=(.67, .1), pointb=(.98, .1),\n",
    "    style='modern',\n",
    ")\n",
    "p.show()"
   ]
  },
  {
   "cell_type": "code",
   "execution_count": null,
   "id": "45a8af11",
   "metadata": {},
   "outputs": [],
   "source": []
  },
  {
   "cell_type": "code",
   "execution_count": null,
   "id": "eed47cb8",
   "metadata": {},
   "outputs": [],
   "source": []
  },
  {
   "cell_type": "code",
   "execution_count": null,
   "id": "748d5662",
   "metadata": {},
   "outputs": [],
   "source": [
    "seis = valdemar.data.data / np.max(np.abs(valdemar.data.data))\n",
    "fault = valdemar.CNN.where(valdemar.CNN>0.9).data\n",
    "\n",
    "seis = seis[:,:,t_start:t_stop]\n",
    "fault = fault[:,:,t_start:t_stop]\n",
    "\n",
    "I,X,T=seis.shape\n",
    "dims=(I,X,T)\n",
    "spacing=(2,1,4)\n",
    "origin=(7900,7800,1900)\n",
    "mesh = pv.UniformGrid(dims,spacing,origin)\n",
    "mesh2 = pv.UniformGrid(dims,spacing,origin)\n",
    "\n",
    "mesh['seis']=seis.ravel('F')\n",
    "mesh2['CNN Fault probability'] = fault.ravel('F')\n",
    "\n",
    "\n",
    "\n",
    "slc = mesh.slice(normal='y', origin = (8100,7975,2599))\n",
    "slc2 = mesh2.slice(normal='y', origin = (8100,7975,2599))\n",
    "\n",
    "p = pv.Plotter()\n",
    "#p.add_mesh(mesh, opacity=0.2, cmap='Greys')\n",
    "p.add_mesh(slc, cmap='Greys', opacity = 1, lighting=False, clim=[-1,1], show_scalar_bar =False)\n",
    "p.add_mesh(slc2, nan_color = None, nan_opacity= 0 , lighting=False, cmap='Reds' , label='CNN Fault')#, clim=[0.9,1], opacity=0.7)\n",
    "\n",
    "#for i in faultsticks.loc[faultsticks['iline'] == IL]['fault_id'].unique():   \n",
    "#    p.add_mesh(d['fault_'+str(int(i))])\n",
    "\n",
    "for i in faultsticks['fault_id'].unique():   \n",
    "    p.add_mesh(d['fault_'+str(int(i))].slice_orthogonal(x=0, y=7975, z=0), color='lawngreen',line_width=2, show_edges=True, edge_color='k', lighting=False)\n",
    "\n",
    "    \n",
    "#p.show_bounds( xlabel='Iline', ylabel='Xlne', zlabel='TWT', \n",
    "#              grid='front', location='outer', all_edges=True, minor_ticks=True)\n",
    "\n",
    "\n",
    "\n",
    "k = 0\n",
    "for hrz in hrz_list:\n",
    "    p.add_mesh(hrz_3d[hrz].slice(normal='y', origin = (8100,7975,2599)), color = color_hrz[k] ,line_width=2, show_edges=True, edge_color='k', lighting=False, nan_color = None, nan_opacity= 0)\n",
    "    k += 1\n",
    "p.camera_position = 'xz'\n",
    "#p.enable_parallel_projection()\n",
    "\n",
    "#p.add_actor(actor)\n",
    "p.set_background(\"royalblue\", top=\"aliceblue\")\n",
    "\n",
    "p.show()"
   ]
  },
  {
   "cell_type": "code",
   "execution_count": null,
   "id": "c45154a7",
   "metadata": {},
   "outputs": [],
   "source": []
  },
  {
   "cell_type": "code",
   "execution_count": null,
   "id": "efbff364",
   "metadata": {},
   "outputs": [],
   "source": [
    "cpos = [(540.9115516905358, -617.1912234499737, 180.5084853429126),\n",
    " (128.31920055083387, 126.4977720785509, 111.77682599082095),\n",
    " (-0.1065160140819035, 0.032750075477590124, 0.9937714884722322)]\n",
    "\n",
    "p = pv.Plotter(shape=(2,2))\n",
    "# XYZ - show 3D scene first\n",
    "p.subplot(1,1)\n",
    "p.add_mesh(slc)\n",
    "p.show_grid()\n",
    "p.camera_position = cpos\n",
    "# XY\n",
    "p.subplot(0,0)\n",
    "p.add_mesh(slc)\n",
    "p.show_grid()\n",
    "p.camera_position = 'xy'\n",
    "p.enable_parallel_projection()\n",
    "# ZY\n",
    "p.subplot(0,1)\n",
    "p.add_mesh(slc)\n",
    "p.show_grid()\n",
    "p.camera_position = 'zy'\n",
    "p.enable_parallel_projection()\n",
    "# XZ\n",
    "p.subplot(1,0)\n",
    "p.add_mesh(slc)\n",
    "p.show_grid()\n",
    "p.camera_position = 'xz'\n",
    "p.enable_parallel_projection()\n",
    "\n",
    "p.show()"
   ]
  },
  {
   "cell_type": "code",
   "execution_count": null,
   "id": "56f73262",
   "metadata": {},
   "outputs": [],
   "source": []
  },
  {
   "cell_type": "markdown",
   "id": "be3917b2",
   "metadata": {},
   "source": [
    "# Voxelize / volumetric"
   ]
  },
  {
   "cell_type": "code",
   "execution_count": null,
   "id": "8f346304",
   "metadata": {},
   "outputs": [],
   "source": [
    "cloud = pv.PolyData(fault)\n",
    "cloud.plot(point_size=15)"
   ]
  },
  {
   "cell_type": "code",
   "execution_count": null,
   "id": "c84b4d1f",
   "metadata": {},
   "outputs": [],
   "source": [
    "from pyvista import examples\n",
    "mesh3 = examples.download_pine_roots()"
   ]
  },
  {
   "cell_type": "code",
   "execution_count": null,
   "id": "f9aa2d8b",
   "metadata": {},
   "outputs": [],
   "source": [
    "fault_test = np.nan_to_num(valdemar.CNN.where(valdemar.CNN>0.9).data)\n",
    "mesh4 = pv.UniformGrid(dims,spacing,origin)\n",
    "mesh4['fault'] = fault_test.ravel('F')\n",
    "mesh4['fault']"
   ]
  },
  {
   "cell_type": "code",
   "execution_count": null,
   "id": "f2d54b79",
   "metadata": {},
   "outputs": [],
   "source": [
    "mesh3"
   ]
  },
  {
   "cell_type": "code",
   "execution_count": null,
   "id": "3c4800c1",
   "metadata": {},
   "outputs": [],
   "source": [
    "mesh2"
   ]
  },
  {
   "cell_type": "code",
   "execution_count": null,
   "id": "b2f2d666",
   "metadata": {},
   "outputs": [],
   "source": []
  },
  {
   "cell_type": "code",
   "execution_count": null,
   "id": "3c3e8e1e",
   "metadata": {},
   "outputs": [],
   "source": [
    "p = pv.Plotter()\n",
    "p.add_mesh(largest, clim=[0.9,1])\n",
    "#p.add_mesh(mesh4.outline())\n",
    "p.show()"
   ]
  },
  {
   "cell_type": "code",
   "execution_count": null,
   "id": "d08f84fd",
   "metadata": {},
   "outputs": [],
   "source": [
    "\n",
    "p = pv.Plotter()\n",
    "p.add_mesh(largest, nan_color = None, nan_opacity= 0  )\n",
    "p.add_mesh(mesh4.outline())\n",
    "3#p.camera_position = cpos\n",
    "p.show()"
   ]
  },
  {
   "cell_type": "code",
   "execution_count": null,
   "id": "b7c4a15a",
   "metadata": {},
   "outputs": [],
   "source": [
    "from pyvista import examples\n",
    "surf = examples.load_airplane()\n",
    "surf = surf.compute_cell_sizes(length=False, volume=False)\n",
    "surf.plot(smooth_shading=True,notebook=False)"
   ]
  },
  {
   "cell_type": "code",
   "execution_count": null,
   "id": "bf77c7ae",
   "metadata": {},
   "outputs": [],
   "source": [
    "surf"
   ]
  },
  {
   "cell_type": "code",
   "execution_count": null,
   "id": "668d0080",
   "metadata": {},
   "outputs": [],
   "source": [
    "#seis.shape"
   ]
  },
  {
   "cell_type": "code",
   "execution_count": null,
   "id": "103be7eb",
   "metadata": {},
   "outputs": [],
   "source": [
    "#fault.shape"
   ]
  },
  {
   "cell_type": "code",
   "execution_count": null,
   "id": "93e37130",
   "metadata": {},
   "outputs": [],
   "source": [
    "prob_cube_90 = valdemar.CNN.where(valdemar.CNN>0.9).data\n",
    "prob_cube_90 = np.nan_to_num(prob_cube_90)\n",
    "bin_cube_90 = valdemar.CNN.where(valdemar.CNN>0.9).data\n",
    "bin_cube_90 = np.nan_to_num(prob_cube_90)\n",
    "bin_cube_90 = np.where(bin_cube_90<0.1,bin_cube_90,1)\n",
    "bin_cube_90 = bin_cube_90.astype(np.uint8)\n",
    "\n",
    "fault = prob_cube_90[:,:,t_start:t_stop]\n",
    "\n",
    "I,X,T=seis.shape\n",
    "dims=(I,X,T)\n",
    "spacing=(2,1,4)\n",
    "origin=(7900,7800,1900)\n",
    "mesh = pv.UniformGrid(dims,spacing,origin)\n",
    "mesh2 = pv.UniformGrid(dims,spacing,origin)\n",
    "#\n",
    "##mesh.scale([1000.0, 1000.0, 1000.0])\n",
    "##mesh2.scale([1000.0, 1000.0, 1000.0])\n",
    "#\n",
    "#mesh['seis']=seis.ravel('F')\n",
    "mesh2['CNN Fault probability'] = fault.ravel('F')"
   ]
  },
  {
   "cell_type": "code",
   "execution_count": null,
   "id": "f14a2f80",
   "metadata": {},
   "outputs": [],
   "source": [
    "opacity = [0, 0.0, 0, 0.75, 1.0]\n",
    "mesh2.plot(volume=True, notebook=False,clim=[0,1], opacity= opacity)"
   ]
  },
  {
   "cell_type": "code",
   "execution_count": null,
   "id": "bae25c85",
   "metadata": {},
   "outputs": [],
   "source": [
    "voxels = pv.voxelize(mesh2, density=100)\n",
    "\n",
    "p = pv.Plotter()\n",
    "p.add_mesh(voxels, color=True, show_edges=True, opacity=0.5)\n",
    "#p.add_mesh(surface, color=\"lightblue\", opacity=0.5)\n",
    "p.show(cpos=cpos)"
   ]
  },
  {
   "cell_type": "code",
   "execution_count": null,
   "id": "d0adaefe",
   "metadata": {},
   "outputs": [],
   "source": [
    "largest = mesh2.connectivity(largest=False)\n",
    "# or: largest = mesh.extract_largest()\n",
    "\n",
    "p = pv.Plotter(notebook=False)\n",
    "p.add_mesh(largest)\n",
    "#p.add_mesh(mesh4.outline())\n",
    "p.show()"
   ]
  },
  {
   "cell_type": "code",
   "execution_count": null,
   "id": "82eadd12",
   "metadata": {},
   "outputs": [],
   "source": [
    "p = pv.Plotter(notebook=False)\n",
    "p.add_mesh(largest, clim=[.5,1])\n",
    "#p.add_mesh(mesh4.outline())\n",
    "p.show()"
   ]
  },
  {
   "cell_type": "code",
   "execution_count": null,
   "id": "525d222e",
   "metadata": {},
   "outputs": [],
   "source": []
  },
  {
   "cell_type": "code",
   "execution_count": null,
   "id": "9e3b8340",
   "metadata": {},
   "outputs": [],
   "source": []
  },
  {
   "cell_type": "code",
   "execution_count": null,
   "id": "fbf23608",
   "metadata": {},
   "outputs": [],
   "source": [
    "def generate_points(subset=0.02):\n",
    "    \"\"\"A helper to make a 3D NumPy array of points (n_points by 3)\"\"\"\n",
    "    dataset = sumesh3rf\n",
    "    ids = np.random.randint(low=0, high=dataset.n_points-1,\n",
    "                            size=int(dataset.n_points * subset))\n",
    "    return dataset.points[ids]\n",
    "\n",
    "\n",
    "points = generate_points()"
   ]
  },
  {
   "cell_type": "code",
   "execution_count": null,
   "id": "5ec48f73",
   "metadata": {},
   "outputs": [],
   "source": [
    "point_cloud = pv.PolyData(points)\n",
    "#point_cloud"
   ]
  },
  {
   "cell_type": "code",
   "execution_count": null,
   "id": "528ea5fb",
   "metadata": {},
   "outputs": [],
   "source": [
    "point_cloud.plot(eye_dome_lighting=True, notebook=False)"
   ]
  },
  {
   "cell_type": "code",
   "execution_count": null,
   "id": "4a160801",
   "metadata": {},
   "outputs": [],
   "source": [
    "mesh2\n",
    "mesh3 = mesh2.compute_cell_sizes(length=False, volume=False)\n",
    "sumesh3rf = mesh3.cell_data_to_point_data()"
   ]
  },
  {
   "cell_type": "code",
   "execution_count": null,
   "id": "349fae8d",
   "metadata": {},
   "outputs": [],
   "source": [
    "#vol.plot(volume=True, cmap=\"bone\", cpos=cpos)"
   ]
  },
  {
   "cell_type": "code",
   "execution_count": null,
   "id": "59567b9f",
   "metadata": {},
   "outputs": [],
   "source": []
  }
 ],
 "metadata": {
  "kernelspec": {
   "display_name": "Python 3 (ipykernel)",
   "language": "python",
   "name": "python3"
  },
  "language_info": {
   "codemirror_mode": {
    "name": "ipython",
    "version": 3
   },
   "file_extension": ".py",
   "mimetype": "text/x-python",
   "name": "python",
   "nbconvert_exporter": "python",
   "pygments_lexer": "ipython3",
   "version": "3.9.7"
  }
 },
 "nbformat": 4,
 "nbformat_minor": 5
}

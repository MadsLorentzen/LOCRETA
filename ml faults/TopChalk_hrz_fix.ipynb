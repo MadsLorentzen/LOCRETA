{
 "cells": [
  {
   "cell_type": "code",
   "execution_count": null,
   "id": "5028e01d-5f85-4eac-8f99-cac7b629dd38",
   "metadata": {},
   "outputs": [],
   "source": [
    "import pandas as pd\n",
    "import numpy as np\n"
   ]
  },
  {
   "cell_type": "code",
   "execution_count": null,
   "id": "108b2b27-2afe-4026-82f6-a1c9cb87356e",
   "metadata": {},
   "outputs": [],
   "source": [
    "path_horizons =  \"C:/Users/vwt756/OneDrive - GEUS/MLO documents/pythoncode_local/LOCRETA/data/horizons/\"\n",
    "\n",
    "from os import listdir\n",
    "from os.path import isfile, join\n",
    "import pandas as pd\n",
    "onlyfiles = [f for f in listdir(path_horizons) if isfile(join(path_horizons, f))]\n",
    "print(onlyfiles)\n",
    "path_wells =  \"C:/Users/vwt756/OneDrive - GEUS/MLO documents/pythoncode_local/LOCRETA/data/wells/\"\n",
    "well_list = pd.read_csv(path_wells+'valdemar_wells.txt', sep='\\t', usecols = [0,11, 12])\n",
    "print(well_list)"
   ]
  },
  {
   "cell_type": "code",
   "execution_count": null,
   "id": "b98e5c41-4c64-42f2-91ce-dfc7135c6c16",
   "metadata": {},
   "outputs": [],
   "source": [
    "TopChalk = pd.read_csv(path_horizons+'TopChalk.txt',names=[\"cdp_x\",\"cdp_y\",\"twt\",'1','2'], sep='\\s+',skiprows = 10)"
   ]
  },
  {
   "cell_type": "code",
   "execution_count": null,
   "id": "3c8097bd-b8ec-4566-b8e0-0a3981908c4c",
   "metadata": {},
   "outputs": [],
   "source": [
    "TopChalk.drop(columns=['1','2'],inplace=True)"
   ]
  },
  {
   "cell_type": "code",
   "execution_count": null,
   "id": "ad27e465-7ab3-494b-8917-27865a6f7f06",
   "metadata": {},
   "outputs": [],
   "source": [
    "TopChalk.to_csv(path_horizons+'TopChalk_ed.txt', sep=' ', index=False)"
   ]
  },
  {
   "cell_type": "code",
   "execution_count": null,
   "id": "6e42cd28-cb51-40a2-84fe-2eba5e9a6373",
   "metadata": {},
   "outputs": [],
   "source": [
    "TopChalk = pd.read_csv(path_horizons+'TopChalk_ed.txt',names=[\"cdp_x\",\"cdp_y\",\"twt\"], sep='\\s+',skiprows = 10)"
   ]
  },
  {
   "cell_type": "code",
   "execution_count": null,
   "id": "87b9e4a1-beb4-4bb6-9a3d-f51dafddd22f",
   "metadata": {},
   "outputs": [],
   "source": [
    "TopChalk"
   ]
  },
  {
   "cell_type": "code",
   "execution_count": null,
   "id": "6d1789e4-7943-4901-8ee7-5921cb253604",
   "metadata": {},
   "outputs": [],
   "source": [
    "hrz_list = []\n",
    "hrz_list_mapped = []\n",
    "hrz_list_amp = []\n",
    "hrz_list_faultpred = []\n",
    "hrz_list_variance = []\n",
    "\n",
    "k=0\n",
    "for i in onlyfiles:\n",
    "    hrz_file = i\n",
    "    extension = '.txt'\n",
    "    if extension in hrz_file:\n",
    "        hrz = hrz_file.replace(extension,'')\n",
    "        hrz_list.append(hrz)\n",
    "        hrz_list_mapped.append(hrz+'_mapped')\n",
    "        hrz_list_amp.append(hrz+'_amp')\n",
    "        hrz_list_faultpred.append(hrz+'_faultpred')\n",
    "        hrz_list_variance.append(hrz+'_variance')\n",
    "    locals()[hrz] = pd.read_csv(path_horizons+hrz_file,names=[\"cdp_x\",\"cdp_y\",\"twt\"], sep='\\s+',skiprows = 10)\n",
    "    #locals()[hrz]['twt'] = locals()[hrz]['twt']/1000.\n",
    "    print(hrz)\n",
    "    print(hrz_list_mapped[k])\n",
    "    locals()[hrz_list_mapped[k]] = valdemar.seis.surface_from_points(   locals()[hrz],  'twt', right=('cdp_x', 'cdp_y'))\n",
    "    locals()[hrz_list_amp[k]] = valdemar.data.interp({\"iline\": locals()[hrz_list_mapped[k]].iline, \"xline\": locals()[hrz_list_mapped[k]].xline, \"twt\": locals()[hrz_list_mapped[k]].twt})\n",
    "    locals()[hrz_list_faultpred[k]] = valdemar.CNN.interp({\"iline\": locals()[hrz_list_mapped[k]].iline, \"xline\":  locals()[hrz_list_mapped[k]].xline, \"twt\": locals()[hrz_list_mapped[k]].twt})\n",
    "    #locals()[hrz_list_variance[k]] = valdemar.ant.interp({\"iline\": locals()[hrz_list_mapped[k]].iline, \"xline\": locals()[hrz_list_mapped[k]].xline, \"twt\": locals()[hrz_list_mapped[k]].twt})\n",
    "    locals()[hrz_list_variance[k]] = valdemar.variance.interp({\"iline\": locals()[hrz_list_mapped[k]].iline, \"xline\": locals()[hrz_list_mapped[k]].xline, \"twt\": locals()[hrz_list_mapped[k]].twt})\n",
    "    k=k+1"
   ]
  }
 ],
 "metadata": {
  "kernelspec": {
   "display_name": "Python 3 (ipykernel)",
   "language": "python",
   "name": "python3"
  },
  "language_info": {
   "codemirror_mode": {
    "name": "ipython",
    "version": 3
   },
   "file_extension": ".py",
   "mimetype": "text/x-python",
   "name": "python",
   "nbconvert_exporter": "python",
   "pygments_lexer": "ipython3",
   "version": "3.9.7"
  }
 },
 "nbformat": 4,
 "nbformat_minor": 5
}

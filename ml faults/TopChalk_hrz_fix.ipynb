{
 "cells": [
  {
   "cell_type": "code",
   "execution_count": 2,
   "id": "5028e01d-5f85-4eac-8f99-cac7b629dd38",
   "metadata": {},
   "outputs": [],
   "source": [
    "import pandas as pd\n",
    "import numpy as np\n"
   ]
  },
  {
   "cell_type": "code",
   "execution_count": 3,
   "id": "108b2b27-2afe-4026-82f6-a1c9cb87356e",
   "metadata": {},
   "outputs": [
    {
     "name": "stdout",
     "output_type": "stream",
     "text": [
      "['BaseChalk_horizon.txt', 'BCU_horizon.txt', 'sola_horizon.txt', 'TopChalk.txt', 'tuxen_horizon.txt', 'valhall_horizon.txt']\n",
      "     Well      UTM_x       UTM_y\n",
      "0   BO-3X  596935.18  6178863.01\n",
      "1   BO-1X  598533.00  6185329.50\n",
      "2   BO-2X  596898.10  6184414.60\n",
      "3   BO-4X  597567.27  6183158.54\n",
      "4  JUDE-1  597138.22  6180869.45\n"
     ]
    }
   ],
   "source": [
    "path_horizons =  \"C:/Users/vwt756/OneDrive - GEUS/MLO documents/pythoncode_local/LOCRETA/data/horizons/\"\n",
    "\n",
    "from os import listdir\n",
    "from os.path import isfile, join\n",
    "import pandas as pd\n",
    "onlyfiles = [f for f in listdir(path_horizons) if isfile(join(path_horizons, f))]\n",
    "print(onlyfiles)\n",
    "path_wells =  \"C:/Users/vwt756/OneDrive - GEUS/MLO documents/pythoncode_local/LOCRETA/data/wells/\"\n",
    "well_list = pd.read_csv(path_wells+'valdemar_wells.txt', sep='\\t', usecols = [0,11, 12])\n",
    "print(well_list)"
   ]
  },
  {
   "cell_type": "code",
   "execution_count": 17,
   "id": "b98e5c41-4c64-42f2-91ce-dfc7135c6c16",
   "metadata": {},
   "outputs": [],
   "source": [
    "TopChalk = pd.read_csv(path_horizons+'TopChalk.txt',names=[\"cdp_x\",\"cdp_y\",\"twt\",'1','2'], sep='\\s+',skiprows = 10)"
   ]
  },
  {
   "cell_type": "code",
   "execution_count": 18,
   "id": "3c8097bd-b8ec-4566-b8e0-0a3981908c4c",
   "metadata": {},
   "outputs": [],
   "source": [
    "TopChalk.drop(columns=['1','2'],inplace=True)"
   ]
  },
  {
   "cell_type": "code",
   "execution_count": 19,
   "id": "ad27e465-7ab3-494b-8917-27865a6f7f06",
   "metadata": {},
   "outputs": [],
   "source": [
    "TopChalk.to_csv(path_horizons+'TopChalk_ed.txt', sep=' ', index=False)"
   ]
  },
  {
   "cell_type": "code",
   "execution_count": 20,
   "id": "6e42cd28-cb51-40a2-84fe-2eba5e9a6373",
   "metadata": {},
   "outputs": [],
   "source": [
    "TopChalk = pd.read_csv(path_horizons+'TopChalk_ed.txt',names=[\"cdp_x\",\"cdp_y\",\"twt\"], sep='\\s+',skiprows = 10)"
   ]
  },
  {
   "cell_type": "code",
   "execution_count": 21,
   "id": "87b9e4a1-beb4-4bb6-9a3d-f51dafddd22f",
   "metadata": {},
   "outputs": [
    {
     "data": {
      "text/html": [
       "<div>\n",
       "<style scoped>\n",
       "    .dataframe tbody tr th:only-of-type {\n",
       "        vertical-align: middle;\n",
       "    }\n",
       "\n",
       "    .dataframe tbody tr th {\n",
       "        vertical-align: top;\n",
       "    }\n",
       "\n",
       "    .dataframe thead th {\n",
       "        text-align: right;\n",
       "    }\n",
       "</style>\n",
       "<table border=\"1\" class=\"dataframe\">\n",
       "  <thead>\n",
       "    <tr style=\"text-align: right;\">\n",
       "      <th></th>\n",
       "      <th>cdp_x</th>\n",
       "      <th>cdp_y</th>\n",
       "      <th>twt</th>\n",
       "    </tr>\n",
       "  </thead>\n",
       "  <tbody>\n",
       "    <tr>\n",
       "      <th>0</th>\n",
       "      <td>595487.0</td>\n",
       "      <td>6178582.5</td>\n",
       "      <td>2314.773193</td>\n",
       "    </tr>\n",
       "    <tr>\n",
       "      <th>1</th>\n",
       "      <td>595499.5</td>\n",
       "      <td>6178582.5</td>\n",
       "      <td>2313.847656</td>\n",
       "    </tr>\n",
       "    <tr>\n",
       "      <th>2</th>\n",
       "      <td>595512.0</td>\n",
       "      <td>6178582.5</td>\n",
       "      <td>2312.967285</td>\n",
       "    </tr>\n",
       "    <tr>\n",
       "      <th>3</th>\n",
       "      <td>595524.5</td>\n",
       "      <td>6178582.5</td>\n",
       "      <td>2312.096436</td>\n",
       "    </tr>\n",
       "    <tr>\n",
       "      <th>4</th>\n",
       "      <td>595537.0</td>\n",
       "      <td>6178582.5</td>\n",
       "      <td>2311.179199</td>\n",
       "    </tr>\n",
       "    <tr>\n",
       "      <th>...</th>\n",
       "      <td>...</td>\n",
       "      <td>...</td>\n",
       "      <td>...</td>\n",
       "    </tr>\n",
       "    <tr>\n",
       "      <th>210933</th>\n",
       "      <td>599649.5</td>\n",
       "      <td>6186082.5</td>\n",
       "      <td>2041.774414</td>\n",
       "    </tr>\n",
       "    <tr>\n",
       "      <th>210934</th>\n",
       "      <td>599662.0</td>\n",
       "      <td>6186082.5</td>\n",
       "      <td>2042.025024</td>\n",
       "    </tr>\n",
       "    <tr>\n",
       "      <th>210935</th>\n",
       "      <td>599674.5</td>\n",
       "      <td>6186082.5</td>\n",
       "      <td>2042.254517</td>\n",
       "    </tr>\n",
       "    <tr>\n",
       "      <th>210936</th>\n",
       "      <td>599687.0</td>\n",
       "      <td>6186082.5</td>\n",
       "      <td>2042.466919</td>\n",
       "    </tr>\n",
       "    <tr>\n",
       "      <th>210937</th>\n",
       "      <td>599699.5</td>\n",
       "      <td>6186082.5</td>\n",
       "      <td>2042.670166</td>\n",
       "    </tr>\n",
       "  </tbody>\n",
       "</table>\n",
       "<p>210938 rows × 3 columns</p>\n",
       "</div>"
      ],
      "text/plain": [
       "           cdp_x      cdp_y          twt\n",
       "0       595487.0  6178582.5  2314.773193\n",
       "1       595499.5  6178582.5  2313.847656\n",
       "2       595512.0  6178582.5  2312.967285\n",
       "3       595524.5  6178582.5  2312.096436\n",
       "4       595537.0  6178582.5  2311.179199\n",
       "...          ...        ...          ...\n",
       "210933  599649.5  6186082.5  2041.774414\n",
       "210934  599662.0  6186082.5  2042.025024\n",
       "210935  599674.5  6186082.5  2042.254517\n",
       "210936  599687.0  6186082.5  2042.466919\n",
       "210937  599699.5  6186082.5  2042.670166\n",
       "\n",
       "[210938 rows x 3 columns]"
      ]
     },
     "execution_count": 21,
     "metadata": {},
     "output_type": "execute_result"
    }
   ],
   "source": [
    "TopChalk"
   ]
  },
  {
   "cell_type": "code",
   "execution_count": null,
   "id": "6d1789e4-7943-4901-8ee7-5921cb253604",
   "metadata": {},
   "outputs": [],
   "source": [
    "hrz_list = []\n",
    "hrz_list_mapped = []\n",
    "hrz_list_amp = []\n",
    "hrz_list_faultpred = []\n",
    "hrz_list_variance = []\n",
    "\n",
    "k=0\n",
    "for i in onlyfiles:\n",
    "    hrz_file = i\n",
    "    extension = '.txt'\n",
    "    if extension in hrz_file:\n",
    "        hrz = hrz_file.replace(extension,'')\n",
    "        hrz_list.append(hrz)\n",
    "        hrz_list_mapped.append(hrz+'_mapped')\n",
    "        hrz_list_amp.append(hrz+'_amp')\n",
    "        hrz_list_faultpred.append(hrz+'_faultpred')\n",
    "        hrz_list_variance.append(hrz+'_variance')\n",
    "    locals()[hrz] = pd.read_csv(path_horizons+hrz_file,names=[\"cdp_x\",\"cdp_y\",\"twt\"], sep='\\s+',skiprows = 10)\n",
    "    #locals()[hrz]['twt'] = locals()[hrz]['twt']/1000.\n",
    "    print(hrz)\n",
    "    print(hrz_list_mapped[k])\n",
    "    locals()[hrz_list_mapped[k]] = valdemar.seis.surface_from_points(   locals()[hrz],  'twt', right=('cdp_x', 'cdp_y'))\n",
    "    locals()[hrz_list_amp[k]] = valdemar.data.interp({\"iline\": locals()[hrz_list_mapped[k]].iline, \"xline\": locals()[hrz_list_mapped[k]].xline, \"twt\": locals()[hrz_list_mapped[k]].twt})\n",
    "    locals()[hrz_list_faultpred[k]] = valdemar.CNN.interp({\"iline\": locals()[hrz_list_mapped[k]].iline, \"xline\":  locals()[hrz_list_mapped[k]].xline, \"twt\": locals()[hrz_list_mapped[k]].twt})\n",
    "    #locals()[hrz_list_variance[k]] = valdemar.ant.interp({\"iline\": locals()[hrz_list_mapped[k]].iline, \"xline\": locals()[hrz_list_mapped[k]].xline, \"twt\": locals()[hrz_list_mapped[k]].twt})\n",
    "    locals()[hrz_list_variance[k]] = valdemar.variance.interp({\"iline\": locals()[hrz_list_mapped[k]].iline, \"xline\": locals()[hrz_list_mapped[k]].xline, \"twt\": locals()[hrz_list_mapped[k]].twt})\n",
    "    k=k+1"
   ]
  }
 ],
 "metadata": {
  "kernelspec": {
   "display_name": "Python 3 (ipykernel)",
   "language": "python",
   "name": "python3"
  },
  "language_info": {
   "codemirror_mode": {
    "name": "ipython",
    "version": 3
   },
   "file_extension": ".py",
   "mimetype": "text/x-python",
   "name": "python",
   "nbconvert_exporter": "python",
   "pygments_lexer": "ipython3",
   "version": "3.9.7"
  }
 },
 "nbformat": 4,
 "nbformat_minor": 5
}

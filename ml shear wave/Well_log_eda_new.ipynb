{
 "cells": [
  {
   "cell_type": "code",
   "execution_count": null,
   "metadata": {},
   "outputs": [],
   "source": [
    "import numpy as np\n",
    "import pandas as pd\n",
    "import matplotlib.pyplot as plt\n",
    "import os\n",
    "import welly as wl\n",
    "from welly import Project \n",
    "from welly import Well\n",
    "import seaborn as sns"
   ]
  },
  {
   "cell_type": "code",
   "execution_count": null,
   "metadata": {},
   "outputs": [],
   "source": [
    "path_data = 'C:/Users/Bruger/iCloudDrive/MLO_documents/projects/LOCRETA_2018-2022/LOCRETA_DATA/'\n",
    "path_wells = path_data + 'wells/all_wells/df/'\n",
    "las_list = []\n",
    "for file in os.listdir(path_wells):\n",
    "    if file.endswith(\".las\"):\n",
    "        print(os.path.join(path_wells, file))\n",
    "        las_list.append(file)\n"
   ]
  },
  {
   "cell_type": "code",
   "execution_count": null,
   "metadata": {},
   "outputs": [],
   "source": [
    "p = Project.from_las(path_wells+\"*.las\", index = 'm')\n",
    "well_list = []\n",
    "for i in range (len(las_list)):\n",
    "    p[i].name = p[i].uwi\n",
    "    well_list.append(p[i].uwi)"
   ]
  },
  {
   "cell_type": "code",
   "execution_count": null,
   "metadata": {},
   "outputs": [],
   "source": [
    "well_list"
   ]
  },
  {
   "cell_type": "code",
   "execution_count": null,
   "metadata": {},
   "outputs": [],
   "source": [
    "from IPython.display import HTML\n",
    "\n",
    "html1= p.curve_table_html()\n",
    "HTML(html1)"
   ]
  },
  {
   "cell_type": "code",
   "execution_count": null,
   "metadata": {},
   "outputs": [],
   "source": [
    "alias={\n",
    "    'DEPTH' : ['MD'],\n",
    "    'GR':['GRN_C'],\n",
    "    'DTC' : ['DTC_C'],\n",
    "    'DTS' : ['DTS_C'],\n",
    "    'DENS':['DENS_C'],\n",
    "    'CALI':['CALI','DCAL','CAL','CALW'],\n",
    "    'NEUT':['NEUT_C'],\n",
    "    'RMED' : ['RMED_C'],\n",
    "    'BIT' : ['BIT','BS']\n",
    "}\n",
    "\n",
    "keys=[]\n",
    "for k in alias.keys():\n",
    "    keys.append(k)\n",
    "\n",
    "html = p.curve_table_html(keys=keys,alias=alias)\n",
    "\n",
    "HTML(html)"
   ]
  },
  {
   "cell_type": "code",
   "execution_count": null,
   "metadata": {},
   "outputs": [],
   "source": [
    "df = p.df(keys=keys,alias=alias)\n",
    "df.reset_index(inplace=True)\n",
    "\n",
    "df.drop(columns = 'DEPTH', inplace=True)\n",
    "df.rename(columns = {'DEPT' : 'DEPTH'}, inplace=True)\n",
    "df['DEPTH'].loc[df['UWI'] == 'VALDEMAR-2H'] = df['DEPTH'].loc[df['UWI'] == 'VALDEMAR-2H']*.3048\n",
    "\n",
    "df['DTC'].loc[df['UWI'] == 'BO-3X'] =df['DTC'].loc[df['UWI'] == 'BO-3X']*.3048\n",
    "df['DTS'].loc[df['UWI'] == 'BO-3X'] = df['DTC'].loc[df['UWI'] == 'BO-3X']\n",
    "df['NEUT'].loc[df['UWI'] == 'BO-3X'] = df['NEUT'].loc[df['UWI'] == 'BO-3X']/100.\n",
    "\n",
    "df.dropna(axis=0, inplace=True)\n",
    "\n",
    "features = ['DEPTH', 'GR', 'DTC', 'DTS', 'DENS', 'CALI', 'NEUT', 'RMED', 'BIT']\n",
    "for feature in features:\n",
    "    df.drop(index = df.loc[df[feature]<0].index, inplace=True)"
   ]
  },
  {
   "cell_type": "code",
   "execution_count": null,
   "metadata": {},
   "outputs": [],
   "source": [
    "zones = pd.read_excel(path_data +'Zones-wells-LOCRETA_UpperandLowerCretaceous.xlsx', names = ['uwi', 'dataset', 'MD', 'formation'])\n",
    "#zones = zones.drop(index=0)\n",
    "zones['MD'] = zones['MD']*0.3048 #ft to m\n",
    "#print(zones.dtypes)\n",
    "#zones.dropna(axis=1, inplace= True)\n",
    "#zones['WellName'].unique()"
   ]
  },
  {
   "cell_type": "code",
   "execution_count": null,
   "metadata": {},
   "outputs": [],
   "source": [
    "zones"
   ]
  },
  {
   "cell_type": "code",
   "execution_count": null,
   "metadata": {},
   "outputs": [],
   "source": [
    "#df['DEPTH'] = df['DEPTH'] * 0.3048"
   ]
  },
  {
   "cell_type": "code",
   "execution_count": null,
   "metadata": {},
   "outputs": [],
   "source": [
    "df"
   ]
  },
  {
   "cell_type": "code",
   "execution_count": null,
   "metadata": {},
   "outputs": [],
   "source": [
    "sns.histplot(df, x='DEPTH', kde=True, hue = 'UWI', multiple=\"stack\", element=\"step\")"
   ]
  },
  {
   "cell_type": "code",
   "execution_count": null,
   "metadata": {},
   "outputs": [],
   "source": [
    "def make_well_tops_df(df, zones, uwi):\n",
    "    tops_df = zones.loc[zones['uwi']==uwi]\n",
    "    tops_df['tops'] = tops_df.MD.copy()\n",
    "    td = df.loc[df['UWI']==uwi]['DEPTH'].max()\n",
    "    bottoms = list(tops_df['tops'][1:])\n",
    "    bottoms.append(td)\n",
    "    tops_df['bottoms'] = bottoms\n",
    "    return tops_df\n",
    "\n",
    "def get_formation(row, tops_df):\n",
    "    md = row['DEPTH']\n",
    "    if md < tops_df['tops'].min():\n",
    "        return np.nan#'None' \n",
    "    condition = (tops_df['bottoms'] >= md) & (tops_df['tops'] <= md)\n",
    "    #print(tops_df[condition]['ZONE_NAME'])\n",
    "    name = tops_df.loc[condition]['formation'].values[0]\n",
    "    #print(type(name))\n",
    "    try: \n",
    "        return str(name)\n",
    "    except:\n",
    "        return np.nan#str('None')"
   ]
  },
  {
   "cell_type": "code",
   "execution_count": null,
   "metadata": {},
   "outputs": [],
   "source": [
    "df['formation'] = np.nan\n",
    " \n",
    "for uwi in df['UWI'].unique():\n",
    "    print(uwi)\n",
    "    tops_df = make_well_tops_df(df, zones, uwi)\n",
    "    well_df = df.loc[df['UWI']==uwi]\n",
    "    df.loc[df['UWI']==uwi, 'formation'] = well_df.apply(get_formation, axis=1, tops_df=tops_df)"
   ]
  },
  {
   "cell_type": "code",
   "execution_count": null,
   "metadata": {},
   "outputs": [],
   "source": [
    "df.dropna(axis=0, inplace = True)"
   ]
  },
  {
   "cell_type": "code",
   "execution_count": null,
   "metadata": {},
   "outputs": [],
   "source": [
    "df.loc[df['UWI'] == 'BO-2X']['formation']"
   ]
  },
  {
   "cell_type": "code",
   "execution_count": null,
   "metadata": {},
   "outputs": [],
   "source": [
    "df.groupby('formation')['UWI']"
   ]
  },
  {
   "cell_type": "code",
   "execution_count": null,
   "metadata": {},
   "outputs": [],
   "source": [
    "df.groupby('formation').count().plot(kind='bar')"
   ]
  },
  {
   "cell_type": "code",
   "execution_count": null,
   "metadata": {},
   "outputs": [],
   "source": [
    "df.shape"
   ]
  },
  {
   "cell_type": "code",
   "execution_count": null,
   "metadata": {},
   "outputs": [],
   "source": [
    "sns.pairplot(df[['DEPTH', 'GR', 'DTC', 'DTS', 'DENS','NEUT', 'RMED', 'UWI']].sample(1000), hue='UWI')"
   ]
  },
  {
   "cell_type": "code",
   "execution_count": null,
   "metadata": {},
   "outputs": [],
   "source": []
  }
 ],
 "metadata": {
  "kernelspec": {
   "display_name": "mlo",
   "language": "python",
   "name": "python3"
  },
  "language_info": {
   "codemirror_mode": {
    "name": "ipython",
    "version": 3
   },
   "file_extension": ".py",
   "mimetype": "text/x-python",
   "name": "python",
   "nbconvert_exporter": "python",
   "pygments_lexer": "ipython3",
   "version": "3.10.9"
  },
  "orig_nbformat": 4
 },
 "nbformat": 4,
 "nbformat_minor": 2
}

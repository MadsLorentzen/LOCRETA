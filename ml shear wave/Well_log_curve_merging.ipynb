{
 "cells": [
  {
   "attachments": {},
   "cell_type": "markdown",
   "id": "strategic-outside",
   "metadata": {},
   "source": [
    "# Merging Curves for Wells (using different .las-files)"
   ]
  },
  {
   "attachments": {},
   "cell_type": "markdown",
   "id": "running-cartoon",
   "metadata": {},
   "source": [
    "https://github.com/agile-geoscience/welly/blob/master/tutorial/02_Curves.ipynb"
   ]
  },
  {
   "cell_type": "code",
   "execution_count": null,
   "id": "arabic-technology",
   "metadata": {},
   "outputs": [],
   "source": [
    "import numpy as np\n",
    "import matplotlib.pyplot as plt\n",
    "import welly\n",
    "from welly import Well\n",
    "from welly import Curve\n",
    "path_files =  'C:/Users/Bruger/iCloudDrive/MLO_documents/projects/LOCRETA_2018-2022/LOCRETA_DATA/wells/all_wells/'\n",
    "path_bo2x =  path_files + 'BO-2X/'\n",
    "path_df =  path_files + 'df/'\n",
    "\n",
    "\n",
    "alias={\n",
    "    'DEPTH' : ['MD'],\n",
    "    'GRN': ['GRN','GRKTH'],\n",
    "    'DTC' : ['DT','DTC','DTCO'],\n",
    "    'DTS' : ['DTS','DTSM','DTDS'],\n",
    "    'DENS':['ZDEN','RHOZ','DENS','RHOB'],\n",
    "    'CALI':['CALI','DCAL','CAL','CALW'],\n",
    "    'NEUT':['NEUT','CNC'],\n",
    "    'RMED' : ['RMED','RMLL'],\n",
    "#    'PE' : ['PE','PEF'],\n",
    "}\n",
    "\n",
    "from welly import Project\n",
    "\n",
    "w_dsp = 25 # window length for despike\n",
    "w_sm = 10 # window length for smoothning\n",
    "\n"
   ]
  },
  {
   "cell_type": "code",
   "execution_count": null,
   "id": "3217e589-82a1-4714-ac83-14e21d1d58fa",
   "metadata": {},
   "outputs": [],
   "source": [
    "path_df"
   ]
  },
  {
   "attachments": {},
   "cell_type": "markdown",
   "id": "impaired-arnold",
   "metadata": {},
   "source": [
    "# BO-2X"
   ]
  },
  {
   "cell_type": "code",
   "execution_count": null,
   "id": "moving-china",
   "metadata": {},
   "outputs": [],
   "source": [
    "p = Project.from_las(path_bo2x+\"*.LAS\")"
   ]
  },
  {
   "cell_type": "code",
   "execution_count": null,
   "id": "blind-banks",
   "metadata": {},
   "outputs": [],
   "source": [
    "p"
   ]
  },
  {
   "cell_type": "code",
   "execution_count": null,
   "id": "linear-given",
   "metadata": {},
   "outputs": [],
   "source": [
    "bo2x = Well.from_las(path_bo2x+'bo-2x_bakerhughes.las')\n",
    "bo2x_slowness = Well.from_las(path_bo2x+'bo-2x_bakerhughes_slowness.las')\n",
    "bo2x_vs = Well.from_las(path_bo2x+'BO-2X_with_S_sonic.las')\n",
    "bo2x_comp = Well.from_las(path_bo2x+'BO-2X-COMP_2016.las')#Well.from_las(path_bo2x+'bo-2x_bakerhughes_slowness.las')"
   ]
  },
  {
   "cell_type": "code",
   "execution_count": null,
   "id": "entitled-trance",
   "metadata": {},
   "outputs": [],
   "source": [
    "bo2x_comp.data"
   ]
  },
  {
   "cell_type": "code",
   "execution_count": null,
   "id": "bc346749-e26a-4e9c-8abc-3ffe6ca9b06b",
   "metadata": {},
   "outputs": [],
   "source": [
    "bo2x_vs.data"
   ]
  },
  {
   "cell_type": "code",
   "execution_count": null,
   "id": "large-table",
   "metadata": {},
   "outputs": [],
   "source": [
    "#p_DTC = {'mnemonic': 'DTC'}\n",
    "#data = bo2x_vs.data['DT'].values\n",
    "#DTC = Curve(data, bo2x_vs.data['MD'], params=p_DTC)\n",
    "#bo2x_comp.data['DTC'] = DTC\n",
    "\n",
    "p_DTDS = {'mnemonic': 'DTS'}\n",
    "data = bo2x_vs.data['DTDS'].values\n",
    "DTS = Curve(data, bo2x_vs.data['MD'], params=p_DTDS)\n",
    "bo2x_comp.data['DTS'] = DTS\n",
    "\n",
    "p_DENS = {'mnemonic': 'DENS'}\n",
    "data = bo2x_vs.data['ZDEN'].values\n",
    "DENS = Curve(data, bo2x_vs.data['MD'], params=p_DENS)\n",
    "bo2x_comp.data['DENS'] = DENS\n",
    "#\n",
    "#p_NEUT = {'mnemonic': 'NEUT'}\n",
    "#data = bo2x_vs.data['CNC'].values\n",
    "#NEUT = Curve(data, bo2x_vs.data['MD'], params=p_NEUT)\n",
    "#bo2x_comp.data['NEUT'] = NEUT\n",
    "\n",
    "#\n",
    "p_SWT = {'mnemonic': 'SWT'}\n",
    "data = bo2x_vs.data['SW_CRETSYS'].values\n",
    "SWT = Curve(data, bo2x_vs.data['MD'], params=p_SWT)\n",
    "bo2x_comp.data['SWT'] = SWT\n",
    "\n",
    "p_VSHALE = {'mnemonic': 'VSHALE'}\n",
    "data = bo2x_vs.data['VSHALE'].values\n",
    "VSHALE = Curve(data, bo2x_vs.data['MD'], params=p_VSHALE)\n",
    "bo2x_comp.data['VSHALE'] = VSHALE\n",
    "\n",
    "p_PHIE = {'mnemonic': 'PHIE'}\n",
    "data = bo2x_vs.data['PHIE'].values\n",
    "PHIE = Curve(data, bo2x_vs.data['MD'], params=p_PHIE)\n",
    "bo2x_comp.data['PHIE'] = PHIE\n",
    "#\n",
    "#\n",
    "#p_GR_test = {'mnemonic': 'GR_test'}\n",
    "#data = bo2x_comp.data['GR'].values\n",
    "#GR_test = Curve(data, bo2x_comp.data['MD']* 0.3048, params=p_GR_test)\n",
    "#bo2x.data['GR_test'] = GR_test\n",
    "#\n",
    "#p_DENS_test = {'mnemonic': 'DENS_test'}\n",
    "#data = bo2x_comp.data['DENS'].values\n",
    "#DENS_test = Curve(data, bo2x_comp.data['MD']* 0.3048, params=p_DENS_test)\n",
    "#bo2x.data['DENS_test'] = DENS_test\n"
   ]
  },
  {
   "cell_type": "code",
   "execution_count": null,
   "id": "6705f48d",
   "metadata": {},
   "outputs": [],
   "source": [
    "bo2x_vs.data"
   ]
  },
  {
   "cell_type": "code",
   "execution_count": null,
   "id": "danish-validity",
   "metadata": {},
   "outputs": [],
   "source": [
    "tracks = ['MD', ['DENS','DENS_test']]\n",
    "bo2x_comp.plot(tracks=tracks,alpha=.5)\n",
    "#plt.xlim(0,120)"
   ]
  },
  {
   "cell_type": "code",
   "execution_count": null,
   "id": "secondary-helmet",
   "metadata": {},
   "outputs": [],
   "source": [
    "bo2x_comp.data"
   ]
  },
  {
   "cell_type": "code",
   "execution_count": null,
   "id": "angry-exposure",
   "metadata": {},
   "outputs": [],
   "source": [
    "well = bo2x_comp\n",
    "\n",
    "key = ['GRN', 'DTC', 'DTS', 'DENS','NEUT','RMED']\n",
    "\n",
    "for i in key:\n",
    "    alias_log = str(well.data[i].get_alias(alias)[0])\n",
    "    print(i)\n",
    "    well.data[alias_log+'_DESP'] = well.data[i].despike(w_dsp, z=2)\n",
    "    well.data[alias_log+'_C'] = well.data[alias_log+'_DESP'].apply(w_sm)\n",
    "    \n",
    "well.data['SWT'+'_DESP'] = well.data['SWT'].despike(w_dsp, z=2)\n",
    "well.data['SWT'+'_C'] = well.data['SWT'+'_DESP'].apply(w_sm)\n",
    "\n",
    "well.data['VSHALE'+'_DESP'] = well.data['VSHALE'].despike(w_dsp, z=2)\n",
    "well.data['VSHALE'+'_C'] = well.data['VSHALE'+'_DESP'].apply(w_sm)\n",
    "\n",
    "\n",
    "well.data['PHIE'+'_DESP'] = well.data['PHIE'].despike(w_dsp, z=2)\n",
    "well.data['PHIE'+'_C'] = well.data['PHIE'+'_DESP'].apply(w_sm)\n",
    "\n",
    "\n",
    "print('SWT','VSHALE','PHIE')\n",
    "well.to_las(path_df + 'BO-2X.las')"
   ]
  },
  {
   "attachments": {},
   "cell_type": "markdown",
   "id": "empirical-torture",
   "metadata": {},
   "source": [
    "# BO-3X"
   ]
  },
  {
   "cell_type": "code",
   "execution_count": null,
   "id": "continent-skirt",
   "metadata": {},
   "outputs": [],
   "source": [
    "path_bo3x =  '//netapp/Petrel/PetrelProjects/UTM33/Employee/PSpro/DATA/Mads/DATA/well logs/locreta_ml/all_wells/BO-3X/'\n",
    "p = Project.from_las(path_bo3x+\"*.LAS\")"
   ]
  },
  {
   "cell_type": "code",
   "execution_count": null,
   "id": "southwest-navigation",
   "metadata": {},
   "outputs": [],
   "source": [
    "p"
   ]
  },
  {
   "cell_type": "code",
   "execution_count": null,
   "id": "interpreted-maple",
   "metadata": {},
   "outputs": [],
   "source": [
    "bo3x = Well.from_las(path_bo3x+'bo-3x_bakerhughes.las')\n",
    "bo3x_res = Well.from_las(path_bo3x+'BO-3X-COMP_2016.las')\n",
    "bo3x_vs = Well.from_las(path_bo3x+'BO-3X_with_S_sonic.las')"
   ]
  },
  {
   "cell_type": "code",
   "execution_count": null,
   "id": "honest-morning",
   "metadata": {},
   "outputs": [],
   "source": [
    "bo3x_vs.data"
   ]
  },
  {
   "cell_type": "code",
   "execution_count": null,
   "id": "91f53dce-755b-47da-8408-96b4e2987d5c",
   "metadata": {},
   "outputs": [],
   "source": [
    "bo3x_res.data"
   ]
  },
  {
   "cell_type": "code",
   "execution_count": null,
   "id": "e1d7b7de-8a5d-49d9-aab8-81c852a5cb1d",
   "metadata": {},
   "outputs": [],
   "source": [
    "p_RMED = {'mnemonic': 'RMED'}\n",
    "data = bo3x_res.data['RMED'].values\n",
    "RMED = Curve(data,bo3x_res.data['MD']*.3048, params=p_RMED)\n",
    "bo3x_vs.data['RMED'] = RMED\n",
    "\n",
    "\n",
    "p_CAL = {'mnemonic': 'CAL'}\n",
    "data = bo3x_res.data['CALI'].values\n",
    "CAL = Curve(data,bo3x_res.data['MD']*.3048, params=p_CAL)\n",
    "bo3x_vs.data['CAL'] = CAL\n",
    "\n",
    "p_BIT = {'mnemonic': 'BIT'}\n",
    "data = bo3x_res.data['BS'].values\n",
    "BIT = Curve(data,bo3x_res.data['MD']*.3048, params=p_BIT)\n",
    "bo3x_vs.data['BIT'] = BIT\n",
    "\n",
    "\n",
    "p_GRN = {'mnemonic': 'GRN'}\n",
    "data = bo3x_vs.data['GRNORM_CR'].values\n",
    "GRN = Curve(data,bo3x_vs.data['MD'], params=p_GRN)\n",
    "bo3x_vs.data['GRN'] = GRN\n",
    "\n"
   ]
  },
  {
   "cell_type": "code",
   "execution_count": null,
   "id": "d82f0360-173a-4e52-9882-a204a4fe3726",
   "metadata": {},
   "outputs": [],
   "source": [
    "\n",
    "bo3x_vs.plot(alpha=.5)\n",
    "#plt.xlim(0,120)"
   ]
  },
  {
   "cell_type": "code",
   "execution_count": null,
   "id": "d5018d94-7874-4925-b2e8-880ddc17ade2",
   "metadata": {},
   "outputs": [],
   "source": [
    "#p_DTC = {'mnemonic': 'DTC'}\n",
    "#data = bo3x.data['DTC'].values\n",
    "#DTC = Curve(data,bo3x.data['TDEP']* .3048, params=p_DTC)\n",
    "#bo3x_res.data['DTC'] = DTC\n",
    "##\n",
    "#p_RMLL = {'mnemonic': 'RMLL'}\n",
    "#data = bo3x.data['RMLL'].values\n",
    "#RMLL = Curve(data,bo3x.data['TDEP']* .3048, params=p_RMLL)\n",
    "#bo3x_res.data['RMED'] = RMLL\n",
    "\n",
    "p_DTS = {'mnemonic': 'DTS'}\n",
    "data = bo3x_vs.data['DTS'].values\n",
    "DTS = Curve(data,bo3x_vs.data['MD'], params=p_DTS)\n",
    "bo3x_res.data['DTS'] = DTS"
   ]
  },
  {
   "cell_type": "code",
   "execution_count": null,
   "id": "fcb3ce0a-9c04-47d5-8f64-f96be35939ba",
   "metadata": {},
   "outputs": [],
   "source": [
    "tracks = ['MD', ['DTC','DTS']]\n",
    "bo3x_res.plot(tracks=tracks,alpha=.5)\n",
    "#plt.xlim(0,120)"
   ]
  },
  {
   "cell_type": "code",
   "execution_count": null,
   "id": "composed-cardiff",
   "metadata": {},
   "outputs": [],
   "source": [
    "#bo3x_res.plot()"
   ]
  },
  {
   "cell_type": "code",
   "execution_count": null,
   "id": "19db9a69-4180-4875-b642-3a5523697735",
   "metadata": {},
   "outputs": [],
   "source": []
  },
  {
   "cell_type": "code",
   "execution_count": null,
   "id": "numerical-therapist",
   "metadata": {},
   "outputs": [],
   "source": [
    "#tracks = ['MD', ['DTC','DTC_test']]\n",
    "#bo3x_res.plot(tracks=tracks,alpha=.5)\n",
    "#plt.xlim(0,120)"
   ]
  },
  {
   "cell_type": "code",
   "execution_count": null,
   "id": "complete-accordance",
   "metadata": {},
   "outputs": [],
   "source": [
    "well = bo3x_vs\n",
    "key = ['GRN', 'DT', 'DTS', 'RHOB','CNC','RMED']\n",
    "for i in key:\n",
    "    alias_log = str(well.data[i].get_alias(alias)[0])\n",
    "    print(i)\n",
    "    well.data[alias_log+'_DESP'] = well.data[i].despike(w_dsp, z=2)\n",
    "    well.data[alias_log+'_C'] = well.data[alias_log+'_DESP'].smooth(w_sm)\n",
    "well.to_las(path_df + 'BO-3X.las')"
   ]
  },
  {
   "attachments": {},
   "cell_type": "markdown",
   "id": "reliable-basics",
   "metadata": {},
   "source": [
    "# BOJE-2C"
   ]
  },
  {
   "cell_type": "code",
   "execution_count": null,
   "id": "numerical-memphis",
   "metadata": {},
   "outputs": [],
   "source": [
    "path_boje2c =  '//netapp/Petrel/PetrelProjects/UTM33/Employee/PSpro/DATA/Mads/DATA/well logs/locreta_ml/all_wells/BOJE-2C/'\n",
    "p = Project.from_las(path_boje2c+\"*.LAS\")"
   ]
  },
  {
   "cell_type": "code",
   "execution_count": null,
   "id": "tribal-romantic",
   "metadata": {},
   "outputs": [],
   "source": [
    "p"
   ]
  },
  {
   "cell_type": "code",
   "execution_count": null,
   "id": "seven-respect",
   "metadata": {},
   "outputs": [],
   "source": [
    "boje2c = Well.from_las(path_boje2c+'boje-2c_bakeratlas.las')\n",
    "boje2c_vs = Well.from_las(path_boje2c+'BOJE-2C_PPEVAL.las')"
   ]
  },
  {
   "cell_type": "code",
   "execution_count": null,
   "id": "favorite-georgia",
   "metadata": {},
   "outputs": [],
   "source": [
    "boje2c_vs.data"
   ]
  },
  {
   "cell_type": "code",
   "execution_count": null,
   "id": "accessory-reaction",
   "metadata": {},
   "outputs": [],
   "source": [
    "#p_GR = {'mnemonic': 'GR_test'}\n",
    "#data = boje2c_vs.data['GR'].values\n",
    "#GR_test = Curve(data, boje2c_vs.data['MD']*0.3048, params=p_GR)\n",
    "#boje2c.data['GR_test'] = GR_test\n",
    "#\n",
    "#p_RMED = {'mnemonic': 'RMED'}\n",
    "#data = boje2c_vs.data['RMED'].values\n",
    "#RMED = Curve(data, boje2c_vs.data['MD']*0.3048, params=p_RMED)\n",
    "#boje2c.data['RMED'] = RMED\n",
    "#\n",
    "#p_DTC = {'mnemonic': 'DTC'}\n",
    "#data = boje2c_vs.data['DTCO'].values\n",
    "#DTC = Curve(data, boje2c_vs.data['MD']*0.3048, params=p_DTC)\n",
    "#boje2c.data['DTC'] = DTC\n",
    "#\n",
    "#p_DTS = {'mnemonic': 'DTS'}\n",
    "#data = boje2c_vs.data['DTSM'].values\n",
    "#DTS = Curve(data, boje2c_vs.data['MD']*0.3048, params=p_DTS)\n",
    "#boje2c.data['DTS'] = DTS\n",
    "\n",
    "#tracks = ['MD',['GR','GR_test'],['DTCQI','DTC'],['RESH','RMED']]\n",
    "#boje2c.plot(tracks=tracks,alpha=0.5)\n",
    "#plt.ylim(2500, 2300)"
   ]
  },
  {
   "cell_type": "code",
   "execution_count": null,
   "id": "christian-reunion",
   "metadata": {},
   "outputs": [],
   "source": [
    "well = boje2c_vs\n",
    "key = ['GRN', 'DTC', 'DTSM', 'DENS','NEUT','RMED']\n",
    "\n",
    "for i in key:\n",
    "    alias_log = str(well.data[i].get_alias(alias)[0])\n",
    "    print(i)\n",
    "    well.data[alias_log+'_DESP'] = well.data[i].despike(w_dsp, z=2)\n",
    "    well.data[alias_log+'_C'] = well.data[alias_log+'_DESP'].smooth(w_sm)\n",
    "well.to_las(path_df + 'BOJE-2C.las')"
   ]
  },
  {
   "attachments": {},
   "cell_type": "markdown",
   "id": "latest-serbia",
   "metadata": {},
   "source": [
    "# JUDE-1"
   ]
  },
  {
   "cell_type": "code",
   "execution_count": null,
   "id": "indirect-parking",
   "metadata": {},
   "outputs": [],
   "source": [
    "path_jude1 =  '//netapp/Petrel/PetrelProjects/UTM33/Employee/PSpro/DATA/Mads/DATA/well logs/locreta_ml/all_wells/JUDE-1/'\n",
    "p = Project.from_las(path_jude1+\"*.LAS\")"
   ]
  },
  {
   "cell_type": "code",
   "execution_count": null,
   "id": "swedish-olympus",
   "metadata": {},
   "outputs": [],
   "source": [
    "p"
   ]
  },
  {
   "cell_type": "code",
   "execution_count": null,
   "id": "breathing-tongue",
   "metadata": {},
   "outputs": [],
   "source": [
    "jude1 = Well.from_las(path_jude1+'jude-1_bakerhughes.las')\n",
    "jude1_vs = Well.from_las(path_jude1+'Jude-1-DSN_2PETREL.las')"
   ]
  },
  {
   "cell_type": "code",
   "execution_count": null,
   "id": "6f8af965-fadd-416a-a71f-31ac9f26dccf",
   "metadata": {},
   "outputs": [],
   "source": [
    "jude1_vs.data#, jude1_vs.data"
   ]
  },
  {
   "cell_type": "code",
   "execution_count": null,
   "id": "c2c8f95c-36bc-490b-84c1-7e4786c4c1b8",
   "metadata": {},
   "outputs": [],
   "source": [
    "#p_GR = {'mnemonic': 'GR_test'}\n",
    "#data = jude1_vs.data['GR'].values\n",
    "#GR_test = Curve(data, jude1_vs.data['MD']*0.3048, params=p_GR)\n",
    "#jude1.data['GR_test'] = GR_test\n",
    "#\n",
    "#\n",
    "#p_DENS = {'mnemonic': 'DENS_test'}\n",
    "#data = jude1_vs.data['ZDEN'].values\n",
    "#GR_test = Curve(data, jude1_vs.data['MD']*0.3048, params=p_DENS)\n",
    "#jude1.data['GR_test'] = GR_test\n",
    "#p_NEUT = {'mnemonic': 'NEUT_test'}\n",
    "#data = jude1_vs.data['NEUT'].values * 100.\n",
    "#NEUT_test = Curve(data, boje2c_vs.data['MD']*.3048, params=p_NEUT)\n",
    "#jude1.data['NEUT_test'] = NEUT_test\n",
    "\n",
    "#p_RMED = {'mnemonic': 'RMED'}\n",
    "#data = jude1_vs.data['RMED'].values\n",
    "#RMED = Curve(data, jude1_vs.data['MD'].values, params=p_RMED)\n",
    "#\n",
    "#p_CAL = {'mnemonic': 'CAL' , 'unit': 'IN'}\n",
    "#data = jude1_vs.data['CALI'].values\n",
    "#CAL = Curve(data, jude1_vs.data['MD'].values, params=p_CAL)\n",
    "#\n",
    "\n",
    "#jude1.data['RMED'] = RMED\n",
    "#jude1.data['CAL'] = CAL\n",
    "#jude1.data\n",
    "#tracks = ['MD',['GR','GR_test'],['ZDNC','ZDEN'],['RMED']]\n",
    "#jude1.plot(tracks=tracks,alpha=0.5)"
   ]
  },
  {
   "cell_type": "code",
   "execution_count": null,
   "id": "original-coral",
   "metadata": {},
   "outputs": [],
   "source": [
    "\n",
    "well = jude1_vs\n",
    "key = ['GRN', 'DTC', 'DTS', 'DENS','NEUT','RMED']\n",
    "\n",
    "for i in key:\n",
    "    alias_log = str(well.data[i].get_alias(alias)[0])\n",
    "    print(i)\n",
    "    well.data[alias_log+'_DESP'] = well.data[i].despike(w_dsp, z=2)\n",
    "    well.data[alias_log+'_C'] = well.data[alias_log+'_DESP'].smooth(w_sm)\n",
    "well.to_las(path_df + 'JUDE-1.las')"
   ]
  },
  {
   "attachments": {},
   "cell_type": "markdown",
   "id": "worth-thermal",
   "metadata": {},
   "source": [
    "# SIAH NE-1X"
   ]
  },
  {
   "cell_type": "code",
   "execution_count": null,
   "id": "chemical-equivalent",
   "metadata": {},
   "outputs": [],
   "source": [
    "path_siah =  '//netapp/Petrel/PetrelProjects/UTM33/Employee/PSpro/DATA/Mads/DATA/well logs/locreta_ml/all_wells/SIAH_NE-01X/'\n",
    "p = Project.from_las(path_siah+\"*.LAS\")"
   ]
  },
  {
   "cell_type": "code",
   "execution_count": null,
   "id": "irish-canadian",
   "metadata": {},
   "outputs": [],
   "source": [
    "p"
   ]
  },
  {
   "cell_type": "code",
   "execution_count": null,
   "id": "sorted-congress",
   "metadata": {},
   "outputs": [],
   "source": [
    "siah = Well.from_las(path_siah+'SIAH_NE-01X_LOGS_ed.las')"
   ]
  },
  {
   "cell_type": "code",
   "execution_count": null,
   "id": "7eb92f7e-88ba-426d-b20f-8fd4dc5a5da3",
   "metadata": {},
   "outputs": [],
   "source": [
    "siah_bs = Well.from_las(path_siah+'siah_ne-1x_bakerhughes.las')"
   ]
  },
  {
   "cell_type": "code",
   "execution_count": null,
   "id": "25b675ca-a526-4c3b-9e98-b7a64fff408f",
   "metadata": {},
   "outputs": [],
   "source": [
    "siah_bs.data"
   ]
  },
  {
   "cell_type": "code",
   "execution_count": null,
   "id": "b8c9fe4d-e56b-4466-9451-d6fcaacd55f4",
   "metadata": {},
   "outputs": [],
   "source": [
    "p_GR_test = {'mnemonic': 'GR_test'}\n",
    "data = siah_bs.data['GR'].values\n",
    "GR_test = Curve(data, siah_bs.data['MD']*0.3048, params=p_GR_test)\n",
    "siah.data['GR_test'] = GR_test\n",
    "#\n",
    "p_NEUT_test = {'mnemonic': 'NEUT_test'}\n",
    "data = siah_bs.data['CNC'].values / 100.\n",
    "NEUT_test = Curve(data, siah_bs.data['MD']*0.3048, params=p_NEUT_test)\n",
    "siah.data['NEUT_test'] = NEUT_test\n",
    "#\n",
    "\n",
    "p_BIT = {'mnemonic': 'BIT'}\n",
    "data = siah_bs.data['BIT'].values\n",
    "BIT_test = Curve(data, siah_bs.data['MD']*0.3048, params=p_BIT)\n",
    "siah.data['BIT'] = BIT_test\n",
    "\n",
    "#p_DTC = {'mnemonic': 'DTC'}\n",
    "#data = boje2c_vs.data['DTCO'].values\n",
    "#DTC = Curve(data, boje2c_vs.data['MD']*0.3048, params=p_DTC)\n",
    "#boje2c.data['DTC'] = DTC\n",
    "#\n",
    "#p_DTS = {'mnemonic': 'DTS'}\n",
    "#data = boje2c_vs.data['DTSM'].values\n",
    "#DTS = Curve(data, boje2c_vs.data['MD']*0.3048, params=p_DTS)\n",
    "#boje2c.data['DTS'] = DTS"
   ]
  },
  {
   "cell_type": "code",
   "execution_count": null,
   "id": "df5be5fb-6247-4b15-8f9b-df42a629d73f",
   "metadata": {},
   "outputs": [],
   "source": [
    "tracks = ['MD',['GR','GR_test','GRKTHBASE'], ['NEUT','NEUT_test'],['BIT']]\n",
    "siah.plot(tracks=tracks,alpha=0.5)\n",
    "#plt.xlim(0, 5)"
   ]
  },
  {
   "cell_type": "code",
   "execution_count": null,
   "id": "ac2ef948-ebb3-4e2c-b8f7-bc185c5eaf3b",
   "metadata": {},
   "outputs": [],
   "source": [
    "siah.data"
   ]
  },
  {
   "cell_type": "code",
   "execution_count": null,
   "id": "anonymous-temple",
   "metadata": {},
   "outputs": [],
   "source": [
    "well = siah\n",
    "\n",
    "alias={\n",
    "    'DEPTH' : ['MD'],\n",
    "    'GRN': ['GRN','GR'],\n",
    "    'DTC' : ['DTC','DTCO'],\n",
    "    'DTS' : ['DTS','DTSM','DTDS'],\n",
    "    'DENS':['ZDEN','RHOZ','DENS'],\n",
    "    'CALI':['CALI','DCAL','CAL','CALW'],\n",
    "    'NEUT':['NEUT','CNC'],\n",
    "    'RMED' : ['RMED','RMLL'],\n",
    "#    'PE' : ['PE','PEF'],\n",
    "}\n",
    "\n",
    "key = ['GR', 'DTC', 'DTS', 'DENS','NEUT','RMED']\n",
    "\n",
    "for i in key:\n",
    "    alias_log = str(well.data[i].get_alias(alias)[0])\n",
    "    print(i)\n",
    "    well.data[alias_log+'_DESP'] = well.data[i].despike(w_dsp, z=2)\n",
    "    well.data[alias_log+'_C'] = well.data[alias_log+'_DESP'].smooth(w_sm)\n",
    "well.to_las(path_df + 'SIAH_NE-01X.las')"
   ]
  },
  {
   "attachments": {},
   "cell_type": "markdown",
   "id": "d82bd42b-2ba0-4dd2-b307-2c77565b9a46",
   "metadata": {
    "tags": []
   },
   "source": [
    "## VALDEMAR-2"
   ]
  },
  {
   "cell_type": "code",
   "execution_count": null,
   "id": "cdc39d50-4141-4333-bec3-2b533fffa91c",
   "metadata": {},
   "outputs": [],
   "source": [
    "path_valdemar2 =  '//netapp/Petrel/PetrelProjects/UTM33/Employee/PSpro/DATA/Mads/DATA/well logs/locreta_ml/all_wells/VALDEMAR-2/'"
   ]
  },
  {
   "cell_type": "code",
   "execution_count": null,
   "id": "067897ef-dd38-4059-a3ba-6b2eb01a1e6f",
   "metadata": {},
   "outputs": [],
   "source": [
    "valdemar2_samba1 = Well.from_las(path_valdemar2+'samba/'+'DGU00807.las',index=\"F\")\n",
    "\n",
    "valdemar2_samba2 = Well.from_las(path_valdemar2+'samba/'+'DGU00828.las',index=\"F\")\n"
   ]
  },
  {
   "cell_type": "code",
   "execution_count": null,
   "id": "4bbe23df-c1a8-4b83-9389-1ac3577bdf75",
   "metadata": {},
   "outputs": [],
   "source": [
    "#valdemar2_samba.plot(tracks=['MD','GR','SSDT',['DT','DTL']])"
   ]
  },
  {
   "cell_type": "code",
   "execution_count": null,
   "id": "62f35a98-7500-4b4a-a26f-3fe6c57ccbf1",
   "metadata": {},
   "outputs": [],
   "source": [
    "import pandas as pd\n",
    "valdemar2 = pd.ExcelFile(path_valdemar2+'Valdemar-2H.xlsx')"
   ]
  },
  {
   "cell_type": "code",
   "execution_count": null,
   "id": "2ff6dc4c-9d01-4216-9f1b-f1f52920d8ad",
   "metadata": {},
   "outputs": [],
   "source": [
    "log0 = pd.read_excel(valdemar2,\"log\",skiprows = 135)\n",
    "log1 = pd.read_excel(valdemar2,\"logedit\")\n",
    "log2 = pd.read_excel(valdemar2,\"sonicedit\")"
   ]
  },
  {
   "cell_type": "code",
   "execution_count": null,
   "id": "b046a5a7-4704-4bd4-8e11-d07807a127c5",
   "metadata": {},
   "outputs": [],
   "source": [
    "plt.plot(log0['DENS'],log0['MD'])\n",
    "plt.plot(log1['DENS'],log1['MD'], alpha=0.5)\n",
    "plt.xlim(0,3)\n",
    "plt.ylim(8000,12000)"
   ]
  },
  {
   "cell_type": "code",
   "execution_count": null,
   "id": "fb8f9d61-697d-4a8e-a439-d7287a3c8151",
   "metadata": {},
   "outputs": [],
   "source": [
    "log1"
   ]
  },
  {
   "cell_type": "code",
   "execution_count": null,
   "id": "9b565914-b9b2-42d5-abf7-c273e98284a8",
   "metadata": {},
   "outputs": [],
   "source": [
    "plt.plot(  log1['GR'][3000:4000])\n",
    "#plt.plot( log1['GRN'][3000:4000])\n",
    "plt.plot(  log2['GR'][3000:4000])\n",
    "#plt.plot(log2['GR.1'][3000:4000])"
   ]
  },
  {
   "cell_type": "code",
   "execution_count": null,
   "id": "6a619888-b145-4d52-9075-8199e55b4bd7",
   "metadata": {},
   "outputs": [],
   "source": [
    "log1['DTC'] = log2['DTCO']\n",
    "log1['DTS'] = log2['DTSM']\n",
    "log1['UWI'] = 'VALDEMAR-2H'\n",
    "#log1.drop(columns=['GR'], inplace=True)"
   ]
  },
  {
   "cell_type": "code",
   "execution_count": null,
   "id": "84ef745a-32c3-4da1-a9ed-bdc7c19954d3",
   "metadata": {},
   "outputs": [],
   "source": [
    "#log1.to_csv(path_df + 'VALDEMAR-2H_new.csv',index=False)"
   ]
  },
  {
   "cell_type": "code",
   "execution_count": null,
   "id": "c2415a79-47f9-4adf-94b4-ac4b0d6d6db0",
   "metadata": {},
   "outputs": [],
   "source": [
    "log1"
   ]
  },
  {
   "cell_type": "code",
   "execution_count": null,
   "id": "9048f87d-e222-416e-87d8-ac8517118ac4",
   "metadata": {},
   "outputs": [],
   "source": [
    "plt.plot(log1['GR'])\n",
    "#plt.plot(log1['GRN'])\n",
    "#plt.plot(log2['GR'])\n",
    "#plt.plot(log2['GR.1'])\n",
    "\n",
    "plt.ylim(0,150)"
   ]
  },
  {
   "cell_type": "code",
   "execution_count": null,
   "id": "eb4e91d5-078c-40e7-b215-eb34078b6bb7",
   "metadata": {},
   "outputs": [],
   "source": [
    "#plt.plot(log[''])"
   ]
  },
  {
   "cell_type": "code",
   "execution_count": null,
   "id": "d65f0fc6-3e4b-4bcc-8b3f-eb2ff25da206",
   "metadata": {},
   "outputs": [],
   "source": [
    "import lasio\n",
    "las = lasio.LASFile()\n",
    "las.header"
   ]
  },
  {
   "cell_type": "code",
   "execution_count": null,
   "id": "f90af674-5e6e-410e-8553-5f765ced6e9e",
   "metadata": {},
   "outputs": [],
   "source": [
    "las.params['STRT'] = lasio.HeaderItem('STRT',unit=\"ft\", value='6880')\n",
    "las.params['STOP'] = lasio.HeaderItem('STOP',unit=\"ft\", value='11500')\n",
    "las.params['STEP'] = lasio.HeaderItem('STEP',unit=\"ft\", value='0.5')"
   ]
  },
  {
   "cell_type": "code",
   "execution_count": null,
   "id": "f004d284-e3a9-48fc-a6ba-ec23539052c8",
   "metadata": {},
   "outputs": [],
   "source": [
    "log1"
   ]
  },
  {
   "cell_type": "code",
   "execution_count": null,
   "id": "399a38a1-e005-4298-8475-5c98e51fd77a",
   "metadata": {},
   "outputs": [],
   "source": [
    "las.add_curve('MD',   log1['MD'].values, unit='ft')\n",
    "las.add_curve('BS',   log1['BS'].values, unit='in'  )\n",
    "las.add_curve('CALI', log1['CALI'].values, unit='in'  )\n",
    "las.add_curve('DENS', log1['DENS'].values, unit='g/cm3'  )\n",
    "#las.add_curve('DENSC',raw_data[:,4], unit='g/cm3'  )\n",
    "#las.add_curve('DEVI', raw_data[:,5], unit='deg'  )\n",
    "#las.add_curve('FTEMP',raw_data[:,6], unit='DEGF'  )\n",
    "#las.add_curve('GR',   raw_data[:,7], unit='gAPI'  )\n",
    "las.add_curve('GRN',  log1['GRN'].values, unit='gAPI'  )\n",
    "las.add_curve('NEUT', log1['NEUT'].values*100., unit='v/v'  )\n",
    "las.add_curve('RMED', log1['RMED'].values,unit='ohm.m'  )\n",
    "las.add_curve('DTCO', log1['DTC'].values,unit='us/ft' )\n",
    "las.add_curve('DTSM',  log1['DTS'].values,unit='us/ft' )"
   ]
  },
  {
   "cell_type": "code",
   "execution_count": null,
   "id": "2ea59752-c78f-4164-8526-063af1e725d6",
   "metadata": {},
   "outputs": [],
   "source": [
    "las.write(path_valdemar2 + 'valdemar2_test.las', version=1.2)"
   ]
  },
  {
   "cell_type": "code",
   "execution_count": null,
   "id": "297a534d-25cc-4011-aec1-580a34ff4b5c",
   "metadata": {},
   "outputs": [],
   "source": [
    "valdemar2 = Well.from_las(path_valdemar2+'valdemar2_test.las',index=\"F\")"
   ]
  },
  {
   "cell_type": "code",
   "execution_count": null,
   "id": "31f5dece-18ce-4bd8-af8b-4336a2b68230",
   "metadata": {},
   "outputs": [],
   "source": [
    "valdemar2.plot()"
   ]
  },
  {
   "cell_type": "code",
   "execution_count": null,
   "id": "8d7b58eb-9bf4-46b1-bac5-115e2c54f5ea",
   "metadata": {},
   "outputs": [],
   "source": [
    "valdemar2.data"
   ]
  },
  {
   "cell_type": "code",
   "execution_count": null,
   "id": "0389628e-7580-460b-b0b8-4a2a3ce9405c",
   "metadata": {},
   "outputs": [],
   "source": [
    "\n",
    "key = ['GRN', 'RMED', 'DENS', 'DTCO','DTSM','NEUT']\n",
    "well = valdemar2\n",
    "for i in key:\n",
    "    alias_log = str(well.data[i].get_alias(alias)[0])\n",
    "    print(i,alias_log)\n",
    "    well.data[alias_log+'_DESP'] = well.data[i].despike(w_dsp, z=2)\n",
    "    well.data[alias_log+'_C'] = well.data[alias_log+'_DESP'].smooth(w_sm)\n",
    "    \n",
    "valdemar2.to_las(path_df + 'VALDEMAR-2H.las')"
   ]
  },
  {
   "cell_type": "code",
   "execution_count": null,
   "id": "micro-throw",
   "metadata": {},
   "outputs": [],
   "source": [
    "path_valdemar2 =  '//netapp/Petrel/PetrelProjects/UTM33/Employee/PSpro/DATA/Mads/DATA/well logs/locreta_ml/all_wells/VALDEMAR-2/'\n",
    "#p = Project.from_las(path_valdemar2+\"*.LAS\")"
   ]
  },
  {
   "cell_type": "code",
   "execution_count": null,
   "id": "legislative-manual",
   "metadata": {},
   "outputs": [],
   "source": [
    "valdemar2 = Well.from_las(path_valdemar2+'VALDEMAR-2H_all.las')"
   ]
  },
  {
   "cell_type": "code",
   "execution_count": null,
   "id": "legitimate-tenant",
   "metadata": {},
   "outputs": [],
   "source": [
    "valdemar2.data"
   ]
  },
  {
   "cell_type": "code",
   "execution_count": null,
   "id": "tribal-sewing",
   "metadata": {},
   "outputs": [],
   "source": [
    "tracks = ['MD',['GR']]\n",
    "valdemar2.plot(tracks=tracks,alpha=0.5)\n",
    "#plt.ylim(2500, 2300)\n",
    "plt.xlim(0,300)"
   ]
  },
  {
   "cell_type": "code",
   "execution_count": null,
   "id": "judicial-swiss",
   "metadata": {},
   "outputs": [],
   "source": [
    "well = valdemar2\n",
    "key = ['GRN', 'DTCO', 'DTSM', 'DENS','NEUT','RMED']\n",
    "\n",
    "for i in key:\n",
    "    alias_log = str(well.data[i].get_alias(alias)[0])\n",
    "    print(i)\n",
    "    well.data[alias_log+'_DESP'] = well.data[i].despike(w_dsp, z=2)\n",
    "    well.data[alias_log+'_C'] = well.data[alias_log+'_DESP'].smooth(w_sm)"
   ]
  },
  {
   "cell_type": "code",
   "execution_count": null,
   "id": "overall-arizona",
   "metadata": {},
   "outputs": [],
   "source": [
    "valdemar2.to_las(path_df + 'VALDEMAR-2H.las')"
   ]
  },
  {
   "cell_type": "code",
   "execution_count": null,
   "id": "grand-greene",
   "metadata": {},
   "outputs": [],
   "source": []
  }
 ],
 "metadata": {
  "kernelspec": {
   "display_name": "Python 3 (ipykernel)",
   "language": "python",
   "name": "python3"
  },
  "language_info": {
   "codemirror_mode": {
    "name": "ipython",
    "version": 3
   },
   "file_extension": ".py",
   "mimetype": "text/x-python",
   "name": "python",
   "nbconvert_exporter": "python",
   "pygments_lexer": "ipython3",
   "version": "3.10.9"
  }
 },
 "nbformat": 4,
 "nbformat_minor": 5
}

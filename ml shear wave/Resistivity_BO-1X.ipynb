{
 "cells": [
  {
   "cell_type": "markdown",
   "id": "cathedral-estate",
   "metadata": {},
   "source": [
    "# Resistivity for BO-1X"
   ]
  },
  {
   "cell_type": "code",
   "execution_count": null,
   "id": "every-method",
   "metadata": {},
   "outputs": [],
   "source": [
    "import numpy as np\n",
    "import pandas as pd\n",
    "pd.options.mode.chained_assignment = None\n",
    "import matplotlib\n",
    "import matplotlib.pyplot as plt\n",
    "import math\n",
    "from matplotlib import gridspec\n",
    "import lasio as la\n",
    "import scipy as sc\n",
    "import bruges as br\n",
    "#import mlo_module as mlo\n",
    "#from my_plot import set_size\n",
    "width = 433.62\n",
    "import segyio\n",
    "from shutil import copyfile\n",
    "from scipy import interpolate\n",
    "from scipy.interpolate import make_interp_spline\n",
    "from IPython.display import SVG # /!\\ note the 'SVG' function also in svgutils.compose\n",
    "import welly as wl\n",
    "import urllib\n",
    "import seaborn as sns\n",
    "\n",
    "from welly import Project \n",
    "from welly import Well\n",
    "\n",
    "%matplotlib inline\n",
    "\n",
    "path_data ='//netapp/Petrel/PetrelProjects/UTM33/Employee/PSpro/DATA/Mads/DATA/'\n",
    "path_las = '//netapp/Petrel/PetrelProjects/UTM33/Employee/PSpro/DATA/Mads/DATA/well logs/'\n",
    "path_wvlt = '//netapp/Petrel/PetrelProjects/UTM33/Employee/PSpro/DATA/Mads/DATA/wavelets/'\n",
    "fig_path = 'M:/LOCRETA_WORKPACKAGE_D/Valdemar_sprint_well_data_Mads_L/MLO documents/Figures/'\n",
    "path_hrs = '//netapp/Petrel/PetrelProjects/UTM33/Employee/PSpro/DATA/Mads/DATA/HRS project/Locreta_proj_Mads_localtest.prj/seismic.dir/'\n",
    "path_wells =  '//netapp/Petrel/PetrelProjects/UTM33/Employee/PSpro/DATA/Mads/DATA/well logs/locreta_ml/all_wells/'\n",
    "path_project = '//netapp/Petrel/PetrelProjects/UTM33/Employee/PSpro/DATA/Mads/DATA/well logs/locreta_ml/'"
   ]
  },
  {
   "cell_type": "code",
   "execution_count": null,
   "id": "miniature-occurrence",
   "metadata": {},
   "outputs": [],
   "source": [
    "path_bo1x = '//netapp/Petrel/PetrelProjects/UTM33/Employee/PSpro/DATA/Mads/DATA/well logs/locreta_ml/all_wells/wells_res_invest/'"
   ]
  },
  {
   "cell_type": "code",
   "execution_count": null,
   "id": "sophisticated-document",
   "metadata": {},
   "outputs": [],
   "source": [
    "zones = pd.read_excel(path_project+'Zones-wells-LOCRETA.xlsx')\n",
    "zones = zones.drop(index=0)\n",
    "zones['MD'] = zones['MD']*0.3048 #ft to m"
   ]
  },
  {
   "cell_type": "code",
   "execution_count": null,
   "id": "lined-volleyball",
   "metadata": {},
   "outputs": [],
   "source": [
    "#bo1x = la.read(path_bo1x + 'BO1X_ILD.las')"
   ]
  },
  {
   "cell_type": "code",
   "execution_count": null,
   "id": "diverse-planner",
   "metadata": {},
   "outputs": [],
   "source": [
    "#bo1x.to_csv(path_bo1x + 'BO1X_ILD.csv')"
   ]
  },
  {
   "cell_type": "code",
   "execution_count": null,
   "id": "searching-conspiracy",
   "metadata": {},
   "outputs": [],
   "source": [
    "test = pd.read_csv(path_bo1x + 'BO1X_ILD.csv')\n",
    "test = test[1:].astype(float)\n",
    "test['Depth'] = test['MD']*0.3048\n",
    "test['UWI'] = 'BO-1X'\n",
    "well_list = ['BO-1X']"
   ]
  },
  {
   "cell_type": "code",
   "execution_count": null,
   "id": "small-heaven",
   "metadata": {},
   "outputs": [],
   "source": [
    "df = pd.DataFrame(columns=test.columns.to_list())"
   ]
  },
  {
   "cell_type": "code",
   "execution_count": null,
   "id": "rural-special",
   "metadata": {},
   "outputs": [],
   "source": [
    "for i in range(len(well_list)):\n",
    "    print(well_list[i])\n",
    "    df = df.append(test.loc[(test['UWI'] == well_list[i]) &  (test['Depth'] > zones['MD'][zones.loc[(zones['WellName'] == well_list[i])].index[0]]) & (test['Depth'] < zones['MD'][zones.loc[(zones['WellName'] == well_list[i])].index[-1]])])\n",
    "    #df = df.append(test.loc[(test['UWI'] == well_list[i]) &  (test['Depth'] > zones['MD'][zones.loc[(zones['WellName'] == well_list[i])].index[0]]) & (test['Depth'] < zones.loc[(zones['WellName'] == well_list[i]) & (zones['ZONE_NAME']=='Valhall')]['MD'].values[0])])\n",
    "    \n",
    "    #df = df.append(test.loc[(test['UWI'] == well_list[i]) & (test['Depth'] < zones.loc[(zones['wellName'] == well_list[i]) & (zones['ZONE_NAME']=='Valhall')]['MD'].values[0])])\n",
    "    #print(zones['MD'][zones.loc[(zones['wellName'] == well_list[i])].index[0]])\n",
    "\n",
    "df = df.drop_duplicates()   \n",
    "df = df.replace([np.inf,-999.2500, -9999.00000], np.nan)\n",
    "df.reset_index(drop=True,inplace=True)"
   ]
  },
  {
   "cell_type": "code",
   "execution_count": null,
   "id": "funky-booth",
   "metadata": {},
   "outputs": [],
   "source": [
    "df"
   ]
  },
  {
   "cell_type": "code",
   "execution_count": null,
   "id": "banner-depth",
   "metadata": {},
   "outputs": [],
   "source": [
    "def find_nearest(array, value):\n",
    "    idx = (np.abs(array - value)).argmin()\n",
    "    return idx"
   ]
  },
  {
   "cell_type": "code",
   "execution_count": null,
   "id": "encouraging-olive",
   "metadata": {},
   "outputs": [],
   "source": [
    "df['Zone'] = np.nan"
   ]
  },
  {
   "cell_type": "code",
   "execution_count": null,
   "id": "based-bottle",
   "metadata": {},
   "outputs": [],
   "source": [
    "test.loc[test['UWI']=='BO-1X']"
   ]
  },
  {
   "cell_type": "code",
   "execution_count": null,
   "id": "increased-upset",
   "metadata": {},
   "outputs": [],
   "source": [
    "for i in range(len(well_list)):\n",
    "    print(well_list[i])\n",
    "    for k in range(len(zones.loc[zones['WellName']==well_list[i]])):\n",
    "        dummy = zones.loc[zones['WellName']==well_list[i]].copy()\n",
    "        dummy = dummy.reset_index(drop=True)\n",
    "        df['Zone'][find_nearest(df.loc[df['UWI'] == well_list[i]]['Depth'],dummy['MD'][k]) + df.loc[df['UWI'] == well_list[i]]['Depth'].index[0]] = dummy['ZONE_NAME'][k]"
   ]
  },
  {
   "cell_type": "code",
   "execution_count": null,
   "id": "african-chicago",
   "metadata": {},
   "outputs": [],
   "source": [
    "df['Zone'] = df['Zone'].fillna(method='ffill')"
   ]
  },
  {
   "cell_type": "code",
   "execution_count": null,
   "id": "looking-cover",
   "metadata": {},
   "outputs": [],
   "source": [
    "df['Zone'].unique()"
   ]
  },
  {
   "cell_type": "code",
   "execution_count": null,
   "id": "aggregate-ferry",
   "metadata": {},
   "outputs": [],
   "source": [
    "sns.scatterplot(data=df, x= 'Depth',y='RESISTIVITY_C', hue='Zone')"
   ]
  },
  {
   "cell_type": "code",
   "execution_count": null,
   "id": "primary-laundry",
   "metadata": {},
   "outputs": [],
   "source": [
    "df['ILD_log10'] = np.log1p(df['RESISTIVITY_C'])\n",
    "df['DEPTH'] = df['Depth']\n",
    "df = df.drop(index = df.loc[df['Zone']=='Valhall'].index.values)"
   ]
  },
  {
   "cell_type": "code",
   "execution_count": null,
   "id": "nominated-asbestos",
   "metadata": {},
   "outputs": [],
   "source": [
    "df.to_csv(path_project+'BO-1X_ILD.csv',index=False)"
   ]
  },
  {
   "cell_type": "code",
   "execution_count": null,
   "id": "deadly-programming",
   "metadata": {},
   "outputs": [],
   "source": []
  }
 ],
 "metadata": {
  "kernelspec": {
   "display_name": "Python 3 (ipykernel)",
   "language": "python",
   "name": "python3"
  },
  "language_info": {
   "codemirror_mode": {
    "name": "ipython",
    "version": 3
   },
   "file_extension": ".py",
   "mimetype": "text/x-python",
   "name": "python",
   "nbconvert_exporter": "python",
   "pygments_lexer": "ipython3",
   "version": "3.9.7"
  }
 },
 "nbformat": 4,
 "nbformat_minor": 5
}

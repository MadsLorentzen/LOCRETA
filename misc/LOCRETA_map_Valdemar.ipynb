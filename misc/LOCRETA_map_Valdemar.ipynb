{
 "cells": [
  {
   "cell_type": "code",
   "execution_count": null,
   "id": "39941eef-0392-4892-a56a-fbec353866a7",
   "metadata": {},
   "outputs": [],
   "source": [
    "import numpy as np\n",
    "import pandas as pd\n",
    "import matplotlib.pyplot as plt"
   ]
  },
  {
   "cell_type": "code",
   "execution_count": null,
   "id": "f412913a-d853-4e1b-aec5-3328a02b5c7c",
   "metadata": {},
   "outputs": [],
   "source": [
    "hrz_loc = pd.read_csv('./data/horizons/florian/Top_Tuxen_Valdemar_TWT',names = ['cdp_x', 'cdp_y','twt'], sep='\\s+')"
   ]
  },
  {
   "cell_type": "code",
   "execution_count": null,
   "id": "b49a51ed-6e7e-4605-b4df-d86ec7af606f",
   "metadata": {},
   "outputs": [],
   "source": [
    "hrz = pd.read_csv('./data/horizons/florian/LOCRETA surfaces meters/TopTuxen_Florian (Depth 1)',names = ['cdp_x', 'cdp_y','twt','IL','XL'], sep='\\s+', skiprows=20)"
   ]
  },
  {
   "cell_type": "code",
   "execution_count": null,
   "id": "54bd27e3-1aaf-4c5d-a21d-7e2bc8cc4227",
   "metadata": {},
   "outputs": [],
   "source": [
    "hrz"
   ]
  },
  {
   "cell_type": "code",
   "execution_count": null,
   "id": "cf0b1f55-55e4-47c2-a87f-c17da2d803c3",
   "metadata": {},
   "outputs": [],
   "source": [
    "hrz = hrz.loc[(hrz['cdp_x'] < hrz_loc['cdp_x'].max() ) & (hrz['cdp_y'] < hrz_loc['cdp_y'].max()) ]"
   ]
  },
  {
   "cell_type": "code",
   "execution_count": null,
   "id": "3232db72-8162-46e5-8f3e-1a512108e917",
   "metadata": {},
   "outputs": [],
   "source": [
    "hrz"
   ]
  },
  {
   "cell_type": "code",
   "execution_count": null,
   "id": "05f88cbc-26ee-418a-a689-dc1435c7c025",
   "metadata": {},
   "outputs": [],
   "source": [
    "wells = pd.read_excel('./data/DK_wells_locations.xlsx', names = ['Well', 'Seq.No', 'Field', 'Structure', 'Sector', 'Platform', 'UTM x', 'UTM y', 'UTM Zone', 'Datum'])"
   ]
  },
  {
   "cell_type": "code",
   "execution_count": null,
   "id": "9d45d1b4-39f2-40d0-9d53-eb6d5a193dd3",
   "metadata": {},
   "outputs": [],
   "source": [
    "wells.drop(index = wells.loc[wells['Sector'] == 'GREENLAND'].index, inplace=True)\n",
    "wells.drop(columns = 'Datum', inplace=True)"
   ]
  },
  {
   "cell_type": "code",
   "execution_count": null,
   "id": "78afc097-ea6e-4c7c-9e0b-c2d2ded67736",
   "metadata": {},
   "outputs": [],
   "source": [
    "wells.dropna(axis=0, inplace=True)"
   ]
  },
  {
   "cell_type": "code",
   "execution_count": null,
   "id": "8fa2283d-f0d5-4c43-ad16-d099bd4cab3d",
   "metadata": {},
   "outputs": [],
   "source": [
    "wells"
   ]
  },
  {
   "cell_type": "code",
   "execution_count": null,
   "id": "39cfee15-af4b-4e06-87a7-d5294c7d823e",
   "metadata": {},
   "outputs": [],
   "source": [
    "from scipy.interpolate import griddata\n",
    "xi = np.linspace(hrz.cdp_x.min(), hrz.cdp_x.max(), 2500)\n",
    "yi = np.linspace(hrz.cdp_y.min(), hrz.cdp_y.max(), 2500)\n",
    "X, Y = np.meshgrid(xi, yi)\n",
    "Z = griddata((hrz.cdp_x, hrz.cdp_y), hrz.twt, (X, Y))\n"
   ]
  },
  {
   "cell_type": "code",
   "execution_count": null,
   "id": "57913be4-2f6d-4813-811c-877f09fb11f8",
   "metadata": {},
   "outputs": [],
   "source": [
    "wells.reset_index(drop=True, inplace = True)"
   ]
  },
  {
   "cell_type": "code",
   "execution_count": null,
   "id": "f8cb6903-ebcf-4198-ae1f-b8aebb736427",
   "metadata": {},
   "outputs": [],
   "source": [
    "import matplotlib\n",
    "plt.style.use('default')\n",
    "matplotlib.rcParams['font.sans-serif'] = \"Arial\"\n",
    "matplotlib.rcParams['font.family'] = \"sans-serif\"\n",
    "matplotlib.rcParams['font.size'] = 16\n",
    "matplotlib.rcParams['legend.fontsize'] = 'small'\n",
    "matplotlib.rcParams['axes.labelsize'] = 'medium'\n",
    "plt.rc('xtick',labelsize=12)\n",
    "plt.rc('ytick',labelsize=12)"
   ]
  },
  {
   "cell_type": "code",
   "execution_count": null,
   "id": "5d354d4a-8d1a-47b3-8c86-c2eb31189ed0",
   "metadata": {},
   "outputs": [],
   "source": [
    "import shapefile"
   ]
  },
  {
   "cell_type": "code",
   "execution_count": null,
   "id": "0169d003-09e0-48c7-a2b1-dcce362f4722",
   "metadata": {},
   "outputs": [],
   "source": [
    "#UTM 32 N (ED 50)\n",
    "fields_poly = shapefile.Reader('./data/Fields_ED50_UTM31n_SL.shp')\n",
    "geomet = fields_poly.shapeRecords()"
   ]
  },
  {
   "cell_type": "code",
   "execution_count": null,
   "id": "f42a76b4-e942-4830-9541-c3b6d4bd04cd",
   "metadata": {},
   "outputs": [],
   "source": [
    "plt.figure()\n",
    "for p in range(len(geomet)):\n",
    "        plt.plot(np.array(geomet[p].shape.points)[:,0], np.array(geomet[p].shape.points)[:,1], lw = 1 ,color='k')"
   ]
  },
  {
   "cell_type": "code",
   "execution_count": null,
   "id": "79132c21-7b3a-499a-b9f5-6776386f245e",
   "metadata": {},
   "outputs": [],
   "source": [
    "plt.imshow(Z, aspect='equal', extent = [hrz.cdp_x.min(), hrz.cdp_x.max() , hrz.cdp_y.min(), hrz.cdp_y.max()], cmap='Spectral', interpolation='spline36', alpha=.5, origin ='lower')\n"
   ]
  },
  {
   "cell_type": "code",
   "execution_count": null,
   "id": "f3496ed8-bb67-4a58-91af-d75abc125ee4",
   "metadata": {},
   "outputs": [],
   "source": [
    "from matplotlib_scalebar.scalebar import ScaleBar\n",
    "#plt.figure()\n",
    "fig, ax = plt.subplots(figsize=(10,10))\n",
    "plt.imshow(Z, aspect='equal', extent = [hrz.cdp_x.min(), hrz.cdp_x.max() , hrz.cdp_y.min(), hrz.cdp_y.max()], cmap='Spectral', interpolation='spline36', alpha=.5, origin ='lower')\n",
    "\n",
    "plt.xlim(hrz_loc.cdp_x.min(), hrz_loc.cdp_x.max())\n",
    "plt.ylim(hrz_loc.cdp_y.min(), hrz_loc.cdp_y.max()-100)\n",
    "\n",
    "cbar = plt.colorbar()\n",
    "cbar.set_label(label='Depth (m)', rotation = -90, labelpad = 18)\n",
    "plt.clim(2300, 3200) \n",
    "\n",
    "cs = plt.contour(Z,levels=10 , extent=[hrz.cdp_x.min(), hrz.cdp_x.max() , hrz.cdp_y.min(), hrz.cdp_y.max()], colors='black', linewidths=2, alpha=0.7)\n",
    "plt.clabel(cs, inline=True, fmt='%1.0f')\n",
    "\n",
    "\n",
    "\n",
    "\n",
    "plt.scatter(wells['UTM x'] , wells['UTM y'], marker='^',edgecolor='k', s=200, color='limegreen', label='Well')\n",
    "\n",
    "\n",
    "props = dict(boxstyle='square', facecolor='white', alpha=1, )\n",
    "#for i, txt in enumerate(wells['Well']):\n",
    "#    plt.annotate(txt, (wells['UTM x'][i]-1500, wells['UTM y'][i]+530), bbox=props,fontsize =8)\n",
    "\n",
    "plt.annotate('Valdemar', (595000, 6193250), bbox = props, fontsize = 24)\n",
    "plt.annotate('Boje', (604000, 6193200), bbox = props, fontsize = 24)\n",
    "plt.annotate('Roar', (604000, 6185100), bbox = props, fontsize = 24)\n",
    "\n",
    "\n",
    "plt.annotate('North Jens', (596500, 6189600), bbox = dict(boxstyle='square', facecolor='white', alpha=.75, ), fontsize = 14)\n",
    "\n",
    "plt.annotate('Bo', (596000, 6185600), bbox = dict(boxstyle='square', facecolor='white', alpha=.75, ), fontsize = 14)\n",
    "\n",
    "plt.annotate('Bo South', (597700, 6180000), bbox = dict(boxstyle='square', facecolor='white', alpha=.75, ), fontsize = 14)\n",
    "\n",
    "\n",
    "scalebar = ScaleBar(1, \"m\", length_fraction=0.25, box_alpha=0.8,location=3)\n",
    "ax.add_artist(scalebar)\n",
    "    \n",
    "plt.xlabel('UTM Easting (m)')\n",
    "plt.ylabel('UTM Northing (m)')\n",
    "#plt.legend(loc=4, fontsize=16)\n",
    "plt.title('Top Tuxen Depth Map', fontsize=28);\n",
    "\n",
    "\n",
    "for p in range(len(geomet)):\n",
    "    if p == 36:\n",
    "        plt.plot(np.array(geomet[p].shape.points)[:,0], np.array(geomet[p].shape.points)[:,1], lw = 2 ,color='k',label = 'Field delineations')\n",
    "    else:\n",
    "        plt.plot(np.array(geomet[p].shape.points)[:,0], np.array(geomet[p].shape.points)[:,1], lw = 2 ,color='k')\n",
    "plt.legend(loc=4, fontsize=12)        \n",
    "        \n",
    "#fig_path = 'M:/LOCRETA_WORKPACKAGE_D/Valdemar_sprint_well_data_Mads_L/MLO documents/Figures/'\n",
    "#plt.savefig(fig_path+'Tuxen_surveymap.png',format='png', bbox_inches='tight', dpi=150)#"
   ]
  },
  {
   "cell_type": "code",
   "execution_count": null,
   "id": "147b8c9e-03b7-425d-a2ae-751f92f783bc",
   "metadata": {},
   "outputs": [],
   "source": []
  },
  {
   "cell_type": "code",
   "execution_count": null,
   "id": "596552e9-347f-40f3-82b2-8cce2f145697",
   "metadata": {},
   "outputs": [],
   "source": []
  }
 ],
 "metadata": {
  "kernelspec": {
   "display_name": "Python 3 (ipykernel)",
   "language": "python",
   "name": "python3"
  },
  "language_info": {
   "codemirror_mode": {
    "name": "ipython",
    "version": 3
   },
   "file_extension": ".py",
   "mimetype": "text/x-python",
   "name": "python",
   "nbconvert_exporter": "python",
   "pygments_lexer": "ipython3",
   "version": "3.9.7"
  }
 },
 "nbformat": 4,
 "nbformat_minor": 5
}

{
 "cells": [
  {
   "cell_type": "code",
   "execution_count": null,
   "id": "89d98e44-2348-4522-b013-7d6638243749",
   "metadata": {},
   "outputs": [],
   "source": [
    "path_seis = \"C:/Users/vwt756/OneDrive - GEUS/DATA/seismic_data/\"\n",
    "\n",
    "#\\\\NETAPP\\Petrel\\PetrelProjects\\UTM33\\Employee\\PSpro\\DATA\\Mads\\DATA\\HRS project\\Locreta_proj_Mads_localtest.prj\\seismic.dir"
   ]
  },
  {
   "cell_type": "code",
   "execution_count": null,
   "id": "9da3eee1-763d-4042-9b65-c839e0f8b7fb",
   "metadata": {},
   "outputs": [],
   "source": [
    "import numpy as np\n",
    "import matplotlib.pyplot as plt"
   ]
  },
  {
   "cell_type": "code",
   "execution_count": null,
   "id": "113b70f6-979e-47a0-9758-97b63c5de937",
   "metadata": {},
   "outputs": [],
   "source": [
    "import segysak\n",
    "from segysak.segy import segy_loader, well_known_byte_locs"
   ]
  },
  {
   "cell_type": "code",
   "execution_count": null,
   "id": "8ebc4a2f-cc19-4570-8d20-813bad78eba7",
   "metadata": {
    "tags": []
   },
   "outputs": [],
   "source": [
    "raw = segy_loader(path_seis + 'valdemar2016_poststack_raw.sgy', iline=189, xline=193, cdpx=181, cdpy=185, vert_domain=\"TWT\")\n",
    "valdemar = segy_loader(path_seis + 'valdemar2016_poststack.sgy', iline=189, xline=193, cdpx=181, cdpy=185, vert_domain=\"TWT\")\n",
    "ai = segy_loader(path_seis + 'inverted2016_Zp.sgy', iline=189, xline=193, cdpx=181, cdpy=185, vert_domain=\"TWT\")\n",
    "vpvs = segy_loader(path_seis + 'inverted2016_VpVs.sgy', iline=189, xline=193, cdpx=181, cdpy=185, vert_domain=\"TWT\")\n",
    "#ps = segy_loader(path_seis + 'valdemar2016_BP.sgy',  iline=189, xline=193, cdpx=181, cdpy=185,offset=37)\n",
    "#ps_pros = segy_loader(path_seis + 'valdemar2016_radon_SG_trimmed1.sgy',  iline=189, xline=193, cdpx=181, cdpy=185,offset=37)"
   ]
  },
  {
   "cell_type": "code",
   "execution_count": null,
   "id": "98fb2961-e94c-4ab4-9ab9-66d31cc117d5",
   "metadata": {},
   "outputs": [],
   "source": [
    "np.argwhere(ai.twt.data == 2600)"
   ]
  },
  {
   "cell_type": "code",
   "execution_count": null,
   "id": "1ed490e5-04ca-4345-a8c8-12888c30515a",
   "metadata": {},
   "outputs": [],
   "source": [
    "raw.data.data = raw.data.data / np.abs(raw.data.data).max()\n",
    "valdemar.data.data = valdemar.data.data / np.abs(valdemar.data.data).max()"
   ]
  },
  {
   "cell_type": "code",
   "execution_count": null,
   "id": "7168fdb4-572d-4a55-b667-342f74a58636",
   "metadata": {},
   "outputs": [],
   "source": [
    "valdemar.data.data.max()"
   ]
  },
  {
   "cell_type": "code",
   "execution_count": null,
   "id": "8a1130fc-3d85-4c9f-9950-4f8780108a75",
   "metadata": {},
   "outputs": [],
   "source": [
    "fig, [[ax1, ax2], [ax3,ax4]] = plt.subplots(2, 2, sharey=True, figsize=(20,10))\n",
    "\n",
    "ax1.imshow(raw.data[:,126,125:275].T, cmap='gray_r', interpolation='spline36', vmin=-.5, vmax=.5)\n",
    "ax2.imshow(valdemar.data[:,126,125:275].T, cmap='gray_r', interpolation='spline36', vmin=-.5, vmax=.5)\n",
    "ax3.imshow(ai.data[:,126,125:275].T, cmap='rainbow', interpolation='spline36', vmin=3000, vmax=10000)\n",
    "ax4.imshow(vpvs.data[:,126,125:275].T, cmap='rainbow', interpolation='spline36')\n",
    "plt.tight_layout()"
   ]
  },
  {
   "cell_type": "code",
   "execution_count": null,
   "id": "85e3dded-4086-4446-840f-f6bd23b4d4de",
   "metadata": {},
   "outputs": [],
   "source": [
    "ai.data[:,126,125:275].T.min()"
   ]
  },
  {
   "cell_type": "code",
   "execution_count": null,
   "id": "28dd810b-1570-49e2-b41d-68cda88a1274",
   "metadata": {},
   "outputs": [],
   "source": [
    "valdemar.data[:,126,:].T.shape"
   ]
  },
  {
   "cell_type": "code",
   "execution_count": null,
   "id": "4599934e-4931-4a83-bc63-2d5238470e2c",
   "metadata": {},
   "outputs": [],
   "source": []
  },
  {
   "cell_type": "code",
   "execution_count": null,
   "id": "af7338d4-c792-467e-ad51-29e8c15a2094",
   "metadata": {},
   "outputs": [],
   "source": [
    "ps.data.data.shape"
   ]
  },
  {
   "cell_type": "code",
   "execution_count": null,
   "id": "ad8dd3bf-2d48-42ef-addc-5832f44c0ad6",
   "metadata": {},
   "outputs": [],
   "source": [
    "plt.imshow(ps.data.data[0,126,125:275,:], cmap='seismic_r', interpolation='spline36')"
   ]
  },
  {
   "cell_type": "code",
   "execution_count": null,
   "id": "829b3cbf-69ed-4840-b08d-736d33123998",
   "metadata": {},
   "outputs": [],
   "source": [
    "ps.data.data = ps.data.data / np.abs(ps.data.data).max()\n",
    "ps_pros.data.data = ps_pros.data.data / np.abs(ps_pros.data.data).max()"
   ]
  },
  {
   "cell_type": "code",
   "execution_count": null,
   "id": "fc3c146f-ffc4-441e-9b17-d98b20d2bc86",
   "metadata": {},
   "outputs": [],
   "source": [
    "ps.data.data[0,126,125:275,:].max()"
   ]
  },
  {
   "cell_type": "code",
   "execution_count": null,
   "id": "fa9b3c26-0ec0-434a-9854-4b5d0407cec9",
   "metadata": {},
   "outputs": [],
   "source": [
    "fig, [ax1, ax2, ax3] = plt.subplots(1,3, sharey=True, figsize=(8,8))\n",
    "\n",
    "ax1.imshow(ps.data.data[250,126,125:275,:], cmap='seismic_r', interpolation='spline36', vmin=-.5, vmax=.5,aspect='auto')\n",
    "\n",
    "ax2.imshow(ps_pros.data.data[250,126,125:275,:], cmap='seismic_r', interpolation='spline36', vmin=-.5, vmax=.5,aspect='auto')\n",
    "\n",
    "ax3.imshow(ps_pros.data.data[250,126,125:275,:] - ps.data.data[250,126,125:275,:], cmap='seismic_r', interpolation='spline36', vmin=-.5, vmax=.5,aspect='auto')\n",
    "\n",
    "plt.tight_layout()\n"
   ]
  },
  {
   "cell_type": "code",
   "execution_count": null,
   "id": "c2c9d653-3750-4329-9bd3-95b6497a0940",
   "metadata": {},
   "outputs": [],
   "source": [
    "import segyio"
   ]
  },
  {
   "cell_type": "code",
   "execution_count": null,
   "id": "864b93b1-10fb-4666-8da0-70549ed8bde8",
   "metadata": {},
   "outputs": [],
   "source": [
    "il_bo2 = 8366\n",
    "xl_bo2 = 7926\n",
    "\n",
    "#file = 'valdemar2016_5-35deg.sgy'\n",
    "#trace range : 6077 , 6271\n",
    "#4704, 4899\n",
    "#107407 - 106231\n",
    "\n",
    "\n",
    "with segyio.open(path_seis +'Tau-P_arb_line_7900_8448.sgy', ignore_geometry=True) as f: # iline=189 , xline=189\n",
    "    arbitrary_line_1 = np.asarray([np.copy(x) for x in f.trace])\n",
    "\n",
    "time = np.arange(1.5,3.004,0.004)\n",
    "t_start = 2.16\n",
    "index_start = (np.abs(time-t_start)).argmin()\n",
    "t_stop = 2.3\n",
    "index_stop = (np.abs(time-t_stop)).argmin()\n",
    "\n",
    "#trace_range = np.array([4725, 4800])\n",
    "#trace_range = np.array([106650, 106700])\n",
    "\n",
    "trace_range = np.array([107250, 107285])\n",
    "arbitrary_line = arbitrary_line_1[trace_range[0]:trace_range[1],:]\n",
    "\n",
    "\n",
    "#newcmp = matplotlib.colors.LinearSegmentedColormap.from_list(\"\", ['red','white','white','blue'])#[\"blue\",\"white\",\"white\",\"orange\"])\n",
    "\n",
    "plt.figure()\n",
    "           \n",
    "plt.imshow(arbitrary_line.T, aspect='auto', interpolation= 'spline36')\n",
    "plt.hlines(tops_twt[5]*1000., -.1,.1,color = 'white', lw=6,   alpha=0.8)\n",
    "plt.hlines(tops_twt[6]*1000., -.1,.1,color = 'white', lw=6,   alpha=0.8)\n",
    "plt.hlines(tops_twt[7]*1000., -.1,.1,color = 'white', lw=6,   alpha=0.8)\n",
    "plt.hlines(tops_twt[8]*1000., -.1,.1,color = 'white', lw=6,   alpha=0.8)\n",
    "\n",
    "\n",
    "\n",
    "plt.hlines(tops_twt[5]*1000., -.1,.1,color = 'magenta', lw=3,   alpha=0.8, label='Base Chalk')\n",
    "plt.hlines(tops_twt[6]*1000., -.1,.1,color = 'red',     lw=3,   alpha=0.8, label = 'Top Sola')\n",
    "plt.hlines(tops_twt[7]*1000., -.1,.1,color = 'green',   lw=3,   alpha=0.8, label = 'Top Tuxen')\n",
    "plt.hlines(tops_twt[8]*1000., -.1,.1,color = 'orange',  lw=3,   alpha=0.8, label = 'Top Valhall')   \n",
    "plt.clim(-.12,.12)\n",
    "plt.colorbar()\n",
    "plt.ylabel('TWT [ms]')\n",
    "plt.xlabel('Time [s]')\n",
    "plt.legend()\n",
    "\n",
    "if savefig == True:\n",
    "    plt.savefig(fig_path+'taup_bo2x.pdf',format='pdf', bbox_inches='tight')\n",
    "    print('FIGURE SAVED')"
   ]
  },
  {
   "cell_type": "code",
   "execution_count": null,
   "id": "98cad199-7e50-49fb-a64e-5bc571dd65de",
   "metadata": {},
   "outputs": [],
   "source": [
    "fms_twt = np.array([2356.225 , 2373.938, 2430.517, 2555.356])\n",
    "fms_ = ['Base Chalk', 'Rødby', 'Tuxen', 'Valhall', 'BCU']\n"
   ]
  },
  {
   "cell_type": "code",
   "execution_count": null,
   "id": "2d5c2bc8-ac36-47c3-b0c2-8ae061a93a16",
   "metadata": {},
   "outputs": [],
   "source": [
    "fig, [ax1, ax2, ax3, ax4] = plt.subplots(1,4, sharey=True, figsize=(8,8))\n",
    "\n",
    "ax1.imshow(ps.data.data[250,126,125:275,:], cmap='seismic_r', interpolation='spline36', vmin=-.5, vmax=.5,aspect='auto', extent = [0,3000,2600,2000])\n",
    "\n",
    "ax2.imshow(ps_pros.data.data[250,126,125:275,:], cmap='seismic_r', interpolation='spline36', vmin=-.5, vmax=.5,aspect='auto', extent = [0,3000,2600,2000])\n",
    "\n",
    "ax3.imshow(ps_pros.data.data[250,126,125:275,:] - ps.data.data[250,126,125:275,:], cmap='seismic_r', interpolation='spline36', vmin=-.5, vmax=.5,aspect='auto', extent = [0,3000,2600,2000])\n",
    "\n",
    "ax4.imshow(arbitrary_line[:,125:275].T, aspect='auto', interpolation= 'spline36', cmap='seismic_r', vmin=-1, vmax=1 , extent = [0,3000,2600,2000])\n",
    "\n",
    "ax_ = [ax1, ax2, ax3, ax4]\n",
    "\n",
    "for i in ax_:\n",
    "    i.hlines(fms_twt,0,3000)\n",
    "\n",
    "plt.tight_layout()"
   ]
  },
  {
   "cell_type": "code",
   "execution_count": null,
   "id": "ecf510fa-5ae7-431b-9e23-90eedc1208e2",
   "metadata": {},
   "outputs": [],
   "source": [
    "fms_twt"
   ]
  },
  {
   "cell_type": "code",
   "execution_count": null,
   "id": "cc1af952-494b-40e8-a67f-259abe904b7a",
   "metadata": {},
   "outputs": [],
   "source": []
  }
 ],
 "metadata": {
  "kernelspec": {
   "display_name": "Python 3 (ipykernel)",
   "language": "python",
   "name": "python3"
  },
  "language_info": {
   "codemirror_mode": {
    "name": "ipython",
    "version": 3
   },
   "file_extension": ".py",
   "mimetype": "text/x-python",
   "name": "python",
   "nbconvert_exporter": "python",
   "pygments_lexer": "ipython3",
   "version": "3.9.7"
  }
 },
 "nbformat": 4,
 "nbformat_minor": 5
}
